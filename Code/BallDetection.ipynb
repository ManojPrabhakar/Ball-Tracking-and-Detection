{
  "nbformat": 4,
  "nbformat_minor": 0,
  "metadata": {
    "colab": {
      "name": "BallDetection.ipynb",
      "version": "0.3.2",
      "provenance": [],
      "collapsed_sections": [],
      "toc_visible": true
    },
    "kernelspec": {
      "name": "python3",
      "display_name": "Python 3"
    },
    "accelerator": "GPU"
  },
  "cells": [
    {
      "metadata": {
        "colab_type": "text",
        "id": "9qWeFDiJ2tKG"
      },
      "cell_type": "markdown",
      "source": [
        "# Ball Detection using the SweatyNet Model"
      ]
    },
    {
      "metadata": {
        "id": "01UzXqtnDeW3",
        "colab_type": "code",
        "outputId": "7932eac4-6530-4c6d-887f-28e80942ba50",
        "colab": {
          "base_uri": "https://localhost:8080/",
          "height": 120
        }
      },
      "cell_type": "code",
      "source": [
        "from google.colab import drive\n",
        "drive.mount('/content/gdrive')"
      ],
      "execution_count": 0,
      "outputs": [
        {
          "output_type": "stream",
          "text": [
            "Go to this URL in a browser: https://accounts.google.com/o/oauth2/auth?client_id=947318989803-6bn6qk8qdgf4n4g3pfee6491hc0brc4i.apps.googleusercontent.com&redirect_uri=urn%3Aietf%3Awg%3Aoauth%3A2.0%3Aoob&scope=email%20https%3A%2F%2Fwww.googleapis.com%2Fauth%2Fdocs.test%20https%3A%2F%2Fwww.googleapis.com%2Fauth%2Fdrive%20https%3A%2F%2Fwww.googleapis.com%2Fauth%2Fdrive.photos.readonly%20https%3A%2F%2Fwww.googleapis.com%2Fauth%2Fpeopleapi.readonly&response_type=code\n",
            "\n",
            "Enter your authorization code:\n",
            "··········\n",
            "Mounted at /content/gdrive\n"
          ],
          "name": "stdout"
        }
      ]
    },
    {
      "metadata": {
        "id": "ySIUyGpfBb-w",
        "colab_type": "text"
      },
      "cell_type": "markdown",
      "source": [
        "## Import statements"
      ]
    },
    {
      "metadata": {
        "colab_type": "code",
        "id": "BhOXihcVttvM",
        "colab": {}
      },
      "cell_type": "code",
      "source": [
        "from __future__ import print_function, division\n",
        "%matplotlib inline\n",
        "import torch as t\n",
        "import torch.nn as nn\n",
        "import torch.nn.functional as func\n",
        "import torch.optim as optim\n",
        "from torch.optim import lr_scheduler\n",
        "from torch.autograd import Variable\n",
        "import torchvision\n",
        "from torchvision import datasets, models, transforms, utils\n",
        "import torchvision.transforms.functional as f\n",
        "import matplotlib.pyplot as plt\n",
        "import matplotlib.image as mpimg\n",
        "import numpy as np\n",
        "from mpl_toolkits.mplot3d import Axes3D\n",
        "from scipy.stats import multivariate_normal\n",
        "import time\n",
        "import os\n",
        "from torch.utils.data.dataset import Dataset\n",
        "import pandas as pd\n",
        "import skimage\n",
        "from skimage import io, transform, img_as_ubyte\n",
        "import random\n",
        "from PIL import Image\n",
        "import cv2\n",
        "import math\n",
        "\n",
        "t.set_default_tensor_type('torch.cuda.FloatTensor')"
      ],
      "execution_count": 0,
      "outputs": []
    },
    {
      "metadata": {
        "id": "BLlvJ99SBi8o",
        "colab_type": "text"
      },
      "cell_type": "markdown",
      "source": [
        "# SweatyNet"
      ]
    },
    {
      "metadata": {
        "id": "hIibSJe518m5",
        "colab_type": "text"
      },
      "cell_type": "markdown",
      "source": [
        "##*SweatyNet* - 1 Model"
      ]
    },
    {
      "metadata": {
        "colab_type": "code",
        "id": "JN5PKzKtypN_",
        "colab": {}
      },
      "cell_type": "code",
      "source": [
        "# SweatyNet-1 Model \n",
        "\n",
        "class SweatyModel1(nn.Module):\n",
        "    def __init__(self):\n",
        "        super(SweatyModel1,self).__init__()\n",
        "          \n",
        "        # batch x 640 x 512\n",
        "        self.layer1 = nn.Sequential(\n",
        "            nn.Conv2d(in_channels=3, out_channels=8, kernel_size=3, stride=1, padding=3//2),\n",
        "            nn.BatchNorm2d(8),\n",
        "            nn.ReLU()\n",
        "        )\n",
        "\n",
        "        # batch x 320 x 256\n",
        "        self.pooling1 = nn.MaxPool2d(kernel_size=2, stride=2)\n",
        "        self.layer2 = nn.Sequential(\n",
        "            nn.Conv2d(8, 16, 3, padding=3//2),\n",
        "            nn.BatchNorm2d(16),\n",
        "            nn.ReLU(),\n",
        "        \n",
        "            nn.Conv2d(16, 16, 3, padding=3//2),\n",
        "            nn.BatchNorm2d(16),\n",
        "            nn.ReLU()\n",
        "        )\n",
        "        #concat1 = (maxpool1 + layer2) -> 8 + 16 = 24\n",
        "        \n",
        "        # batch x 160 x 128\n",
        "        self.pooling2 = nn.MaxPool2d(kernel_size=2, stride=2)\n",
        "        self.layer3 = nn.Sequential(\n",
        "            nn.Conv2d(24, 32, 3, padding=3//2),\n",
        "            nn.BatchNorm2d(32),\n",
        "            nn.ReLU(),\n",
        "        \n",
        "            nn.Conv2d(32, 32, 3, padding=3//2),\n",
        "            nn.BatchNorm2d(32),\n",
        "            nn.ReLU()\n",
        "        )\n",
        "        #concat2 = (maxpool2 + layer3) -> 24 + 32 = 56\n",
        "        \n",
        "        # batch x 80 x 64\n",
        "        self.pooling3 = nn.MaxPool2d(kernel_size=2, stride=2)\n",
        "        self.layer4 = nn.Sequential(\n",
        "            nn.Conv2d(56, 64, 3, padding=3//2),\n",
        "            nn.BatchNorm2d(64),\n",
        "            nn.ReLU(),\n",
        "\n",
        "            nn.Conv2d(64, 64, 3, padding=3//2),  \n",
        "            nn.BatchNorm2d(64),\n",
        "            nn.ReLU(),\n",
        "\n",
        "            nn.Conv2d(64, 64, 3, padding=3//2),  \n",
        "            nn.BatchNorm2d(64),\n",
        "            nn.ReLU()\n",
        "        )\n",
        "        #concat3 = (maxpool3 + layer4) -> 56 + 64 = 120\n",
        "                \n",
        "        # batch x 40 x 32\n",
        "        self.pooling4 = nn.MaxPool2d(kernel_size=2, stride=2)\n",
        "        self.layer5 = nn.Sequential(\n",
        "            nn.Conv2d(120, 128, 3, padding=3//2),  \n",
        "            nn.BatchNorm2d(128),\n",
        "            nn.ReLU(),\n",
        "\n",
        "            nn.Conv2d(128, 128, 3, padding=3//2),\n",
        "            nn.BatchNorm2d(128),\n",
        "            nn.ReLU(),\n",
        "\n",
        "            nn.Conv2d(128, 128, 3, padding=3//2),\n",
        "            nn.BatchNorm2d(128),\n",
        "            nn.ReLU(),\n",
        "\n",
        "            nn.Conv2d(128, 64, 3, padding=3//2),\n",
        "            nn.BatchNorm2d(64),\n",
        "            nn.ReLU()\n",
        "        )\n",
        "        \n",
        "        # batch x 80 x 64\n",
        "        #concat4 = (concat3 + upsample1) -> 120 + 64 = 184\n",
        "        self.layer6 = nn.Sequential(\n",
        "            nn.Conv2d(184, 64, 1, padding=1//2),\n",
        "            nn.BatchNorm2d(64),\n",
        "            nn.ReLU(),\n",
        "\n",
        "            nn.Conv2d(64, 32, 3, padding=3//2),\n",
        "            nn.BatchNorm2d(32),\n",
        "            nn.ReLU(),\n",
        "\n",
        "            nn.Conv2d(32, 32, 3, padding=3//2),\n",
        "            nn.BatchNorm2d(32),\n",
        "            nn.ReLU(),\n",
        "        )\n",
        "        \n",
        "        # batch x 160 x 128\n",
        "        #concat5 = (concat2 + upsample2) -> 56 + 32 = 88\n",
        "        self.layer7 = nn.Sequential(\n",
        "            nn.Conv2d(88, 16, 1, padding=1//2),\n",
        "            nn.BatchNorm2d(16),\n",
        "            nn.ReLU(),\n",
        "\n",
        "            nn.Conv2d(16, 16, 3, padding=3//2),\n",
        "            nn.BatchNorm2d(16),\n",
        "            nn.ReLU(),\n",
        "            \n",
        "            nn.Conv2d(16, 1, 3, padding=3//2),\n",
        "            nn.BatchNorm2d(1),\n",
        "            nn.ReLU()\n",
        "        )        \n",
        "        \n",
        "    def forward(self, x):\n",
        "            \n",
        "        # batch x 640 x 512\n",
        "        layer_out1 = self.layer1(x)\n",
        "        \n",
        "        # batch x 320 x 256\n",
        "        pool_out1 = self.pooling1(layer_out1)\n",
        "        layer_out2 = self.layer2(pool_out1)\n",
        "        concat_out1 = t.cat((pool_out1, layer_out2), dim=1)\n",
        "        \n",
        "        # batch x 160 x 128\n",
        "        pool_out2 = self.pooling2(concat_out1)\n",
        "        layer_out3 = self.layer3(pool_out2)\n",
        "        concat_out2 = t.cat((pool_out2, layer_out3), dim=1)\n",
        "        \n",
        "        # batch x 80 x 64\n",
        "        pool_out3 = self.pooling3(concat_out2)\n",
        "        layer_out4 = self.layer4(pool_out3)\n",
        "        concat_out3 = t.cat((pool_out3, layer_out4), dim=1)\n",
        "        \n",
        "        # batch x 40 x 32\n",
        "        pool_out4 = self.pooling4(concat_out3)\n",
        "        layer_out5 = self.layer5(pool_out4)\n",
        "        upsample_out1 = func.interpolate(layer_out5, scale_factor=2, mode='bilinear', align_corners=True)\n",
        "        \n",
        "        # batch x 80 x 64\n",
        "        concat_out4 = t.cat((concat_out3, upsample_out1), dim=1)\n",
        "        layer_out6 = self.layer6(concat_out4)\n",
        "        upsample_out2 = func.interpolate(layer_out6, scale_factor=2, mode='bilinear', align_corners=True)\n",
        "        \n",
        "        # batch x 160 x 128\n",
        "        concat_out5 = t.cat((concat_out2, upsample_out2), dim=1)\n",
        "        out = self.layer7(concat_out5)\n",
        "              \n",
        "        return out"
      ],
      "execution_count": 0,
      "outputs": []
    },
    {
      "metadata": {
        "id": "-54rv3HsRHO1",
        "colab_type": "text"
      },
      "cell_type": "markdown",
      "source": [
        "##  SweatyNet -2 Model"
      ]
    },
    {
      "metadata": {
        "id": "8nUd2CBARND5",
        "colab_type": "code",
        "colab": {}
      },
      "cell_type": "code",
      "source": [
        "# SweatyNet-2 Model \n",
        "\n",
        "class SweatyModel2(nn.Module):\n",
        "    def __init__(self):\n",
        "        super(SweatyModel2,self).__init__()\n",
        "          \n",
        "        # batch x 640 x 512\n",
        "        self.layer1 = nn.Sequential(\n",
        "            nn.Conv2d(in_channels=3, out_channels=8, kernel_size=3, stride=1, padding=3//2),\n",
        "            nn.BatchNorm2d(8),\n",
        "            nn.ReLU()\n",
        "        )\n",
        "\n",
        "        # batch x 320 x 256\n",
        "        self.pooling1 = nn.MaxPool2d(kernel_size=2, stride=2)\n",
        "        self.layer2 = nn.Sequential(\n",
        "            nn.Conv2d(8, 16, 3, padding=3//2),\n",
        "            nn.BatchNorm2d(16),\n",
        "            nn.ReLU()\n",
        "        \n",
        "        )\n",
        "        #concat1 = (maxpool1 + layer2) -> 8 + 16 = 24\n",
        "        \n",
        "        # batch x 160 x 128\n",
        "        self.pooling2 = nn.MaxPool2d(kernel_size=2, stride=2)\n",
        "        self.layer3 = nn.Sequential(\n",
        "            nn.Conv2d(24, 32, 3, padding=3//2),\n",
        "            nn.BatchNorm2d(32),\n",
        "            nn.ReLU()\n",
        "        \n",
        "        )\n",
        "        #concat2 = (maxpool2 + layer3) -> 24 + 32 = 56\n",
        "        \n",
        "        # batch x 80 x 64\n",
        "        self.pooling3 = nn.MaxPool2d(kernel_size=2, stride=2)\n",
        "        self.layer4 = nn.Sequential(\n",
        "            nn.Conv2d(56, 64, 3, padding=3//2),\n",
        "            nn.BatchNorm2d(64),\n",
        "            nn.ReLU(),\n",
        "\n",
        "            nn.Conv2d(64, 64, 3, padding=3//2),  \n",
        "            nn.BatchNorm2d(64),\n",
        "            nn.ReLU()\n",
        "\n",
        "        )\n",
        "        #concat3 = (maxpool3 + layer4) -> 56 + 64 = 120\n",
        "                \n",
        "        # batch x 40 x 32\n",
        "        self.pooling4 = nn.MaxPool2d(kernel_size=2, stride=2)\n",
        "        self.layer5 = nn.Sequential(\n",
        "            nn.Conv2d(120, 128, 3, padding=3//2),  \n",
        "            nn.BatchNorm2d(128),\n",
        "            nn.ReLU(),\n",
        "\n",
        "            nn.Conv2d(128, 128, 3, padding=3//2),\n",
        "            nn.BatchNorm2d(128),\n",
        "            nn.ReLU(),\n",
        "\n",
        "            nn.Conv2d(128, 64, 3, padding=3//2),\n",
        "            nn.BatchNorm2d(64),\n",
        "            nn.ReLU()\n",
        "        )\n",
        "        \n",
        "        # batch x 80 x 64\n",
        "        #concat4 = (concat3 + upsample1) -> 120 + 64 = 184\n",
        "        self.layer6 = nn.Sequential(\n",
        "            nn.Conv2d(184, 64, 1, padding=1//2),\n",
        "            nn.BatchNorm2d(64),\n",
        "            nn.ReLU(),\n",
        "\n",
        "            nn.Conv2d(64, 32, 3, padding=3//2),\n",
        "            nn.BatchNorm2d(32),\n",
        "            nn.ReLU(),\n",
        "\n",
        "            nn.Conv2d(32, 32, 3, padding=3//2),\n",
        "            nn.BatchNorm2d(32),\n",
        "            nn.ReLU(),\n",
        "        )\n",
        "        \n",
        "        # batch x 160 x 128\n",
        "        #concat5 = (concat2 + upsample2) -> 56 + 32 = 88\n",
        "        self.layer7 = nn.Sequential(\n",
        "            nn.Conv2d(88, 16, 1, padding=1//2),\n",
        "            nn.BatchNorm2d(16),\n",
        "            nn.ReLU(),\n",
        "\n",
        "            nn.Conv2d(16, 16, 3, padding=3//2),\n",
        "            nn.BatchNorm2d(16),\n",
        "            nn.ReLU(),\n",
        "            \n",
        "            nn.Conv2d(16, 1, 3, padding=3//2),\n",
        "            nn.BatchNorm2d(1),\n",
        "            nn.ReLU()\n",
        "        )        \n",
        "        \n",
        "    def forward(self, x):\n",
        "            \n",
        "        # batch x 640 x 512\n",
        "        layer_out1 = self.layer1(x)\n",
        "        \n",
        "        # batch x 320 x 256\n",
        "        pool_out1 = self.pooling1(layer_out1)\n",
        "        layer_out2 = self.layer2(pool_out1)\n",
        "        concat_out1 = t.cat((pool_out1, layer_out2), dim=1)\n",
        "        \n",
        "        # batch x 160 x 128\n",
        "        pool_out2 = self.pooling2(concat_out1)\n",
        "        layer_out3 = self.layer3(pool_out2)\n",
        "        concat_out2 = t.cat((pool_out2, layer_out3), dim=1)\n",
        "        \n",
        "        # batch x 80 x 64\n",
        "        pool_out3 = self.pooling3(concat_out2)\n",
        "        layer_out4 = self.layer4(pool_out3)\n",
        "        concat_out3 = t.cat((pool_out3, layer_out4), dim=1)\n",
        "        \n",
        "        # batch x 40 x 32\n",
        "        pool_out4 = self.pooling4(concat_out3)\n",
        "        layer_out5 = self.layer5(pool_out4)\n",
        "        upsample_out1 = func.interpolate(layer_out5, scale_factor=2, mode='bilinear', align_corners=True)\n",
        "        \n",
        "        # batch x 80 x 64\n",
        "        concat_out4 = t.cat((concat_out3, upsample_out1), dim=1)\n",
        "        layer_out6 = self.layer6(concat_out4)\n",
        "        upsample_out2 = func.interpolate(layer_out6, scale_factor=2, mode='bilinear', align_corners=True)\n",
        "        \n",
        "        # batch x 160 x 128\n",
        "        concat_out5 = t.cat((concat_out2, upsample_out2), dim=1)\n",
        "        out = self.layer7(concat_out5)\n",
        "              \n",
        "        return out"
      ],
      "execution_count": 0,
      "outputs": []
    },
    {
      "metadata": {
        "id": "T0m4ntlX1-0Q",
        "colab_type": "text"
      },
      "cell_type": "markdown",
      "source": [
        "## SweatyNet -3 Model"
      ]
    },
    {
      "metadata": {
        "id": "X9IaPo8w2IwE",
        "colab_type": "code",
        "colab": {}
      },
      "cell_type": "code",
      "source": [
        "# SweatyNet-3 Model \n",
        "\n",
        "class SweatyModel3(nn.Module):\n",
        "    def __init__(self):\n",
        "        super(SweatyModel3,self).__init__()\n",
        "          \n",
        "        # batch x 640 x 512\n",
        "        self.layer1 = nn.Sequential(\n",
        "            nn.Conv2d(in_channels=3, out_channels=8, kernel_size=3, stride=1, padding=3//2),\n",
        "            nn.BatchNorm2d(8),\n",
        "            nn.ReLU()\n",
        "        )\n",
        "\n",
        "        # batch x 320 x 256\n",
        "        self.pooling1 = nn.MaxPool2d(kernel_size=2, stride=2)\n",
        "        self.layer2 = nn.Sequential(\n",
        "            nn.Conv2d(8, 8, 1, padding=1//2),\n",
        "            nn.BatchNorm2d(8),\n",
        "            nn.ReLU(),\n",
        "        \n",
        "            nn.Conv2d(8, 16, 3, padding=3//2),\n",
        "            nn.BatchNorm2d(16),\n",
        "            nn.ReLU()\n",
        "        )\n",
        "        #concat1 = (maxpool1 + layer2) -> 8 + 16 = 24\n",
        "        \n",
        "        # batch x 160 x 128\n",
        "        self.pooling2 = nn.MaxPool2d(kernel_size=2, stride=2)\n",
        "        self.layer3 = nn.Sequential(\n",
        "            nn.Conv2d(24, 16, 1, padding=1//2),\n",
        "            nn.BatchNorm2d(16),\n",
        "            nn.ReLU(),\n",
        "        \n",
        "            nn.Conv2d(16, 32, 3, padding=3//2),\n",
        "            nn.BatchNorm2d(32),\n",
        "            nn.ReLU()\n",
        "        )\n",
        "        #concat2 = (maxpool2 + layer3) -> 24 + 32 = 56\n",
        "        \n",
        "        # batch x 80 x 64\n",
        "        self.pooling3 = nn.MaxPool2d(kernel_size=2, stride=2)\n",
        "        self.layer4 = nn.Sequential(\n",
        "            nn.Conv2d(56, 32, 1, padding=1//2),\n",
        "            nn.BatchNorm2d(32),\n",
        "            nn.ReLU(),\n",
        "\n",
        "            nn.Conv2d(32, 64, 3, padding=3//2),  \n",
        "            nn.BatchNorm2d(64),\n",
        "            nn.ReLU(),\n",
        "\n",
        "            nn.Conv2d(64, 32, 1, padding=1//2),\n",
        "            nn.BatchNorm2d(32),\n",
        "            nn.ReLU(),\n",
        "\n",
        "            nn.Conv2d(32, 64, 3, padding=3//2),  \n",
        "            nn.BatchNorm2d(64),\n",
        "            nn.ReLU()\n",
        "        )\n",
        "        #concat3 = (maxpool3 + layer4) -> 56 + 64 = 120\n",
        "                \n",
        "        # batch x 40 x 32\n",
        "        self.pooling4 = nn.MaxPool2d(kernel_size=2, stride=2)\n",
        "        self.layer5 = nn.Sequential(\n",
        "            nn.Conv2d(120, 64, 1, padding=1//2),  \n",
        "            nn.BatchNorm2d(64),\n",
        "            nn.ReLU(),\n",
        "\n",
        "            nn.Conv2d(64, 128, 3, padding=3//2),\n",
        "            nn.BatchNorm2d(128),\n",
        "            nn.ReLU(),\n",
        "\n",
        "            nn.Conv2d(128, 64, 1, padding=1//2),\n",
        "            nn.BatchNorm2d(64),\n",
        "            nn.ReLU(),\n",
        "\n",
        "            nn.Conv2d(64, 128, 3, padding=3//2),\n",
        "            nn.BatchNorm2d(128),\n",
        "            nn.ReLU(),\n",
        "\n",
        "            nn.Conv2d(128, 64, 3, padding=3//2),\n",
        "            nn.BatchNorm2d(64),\n",
        "            nn.ReLU()\n",
        "        )\n",
        "        \n",
        "        # batch x 80 x 64\n",
        "        #concat4 = (concat3 + upsample1) -> 120 + 64 = 184\n",
        "        self.layer6 = nn.Sequential(\n",
        "            nn.Conv2d(184, 64, 1, padding=1//2),\n",
        "            nn.BatchNorm2d(64),\n",
        "            nn.ReLU(),\n",
        "\n",
        "            nn.Conv2d(64, 32, 3, padding=3//2),\n",
        "            nn.BatchNorm2d(32),\n",
        "            nn.ReLU(),\n",
        "\n",
        "            nn.Conv2d(32, 32, 3, padding=3//2),\n",
        "            nn.BatchNorm2d(32),\n",
        "            nn.ReLU(),\n",
        "        )\n",
        "        \n",
        "        # batch x 160 x 128\n",
        "        #concat5 = (concat2 + upsample2) -> 56 + 32 = 88\n",
        "        self.layer7 = nn.Sequential(\n",
        "            nn.Conv2d(88, 16, 1, padding=1//2),\n",
        "            nn.BatchNorm2d(16),\n",
        "            nn.ReLU(),\n",
        "\n",
        "            nn.Conv2d(16, 16, 3, padding=3//2),\n",
        "            nn.BatchNorm2d(16),\n",
        "            nn.ReLU(),\n",
        "\n",
        "            nn.Conv2d(16, 1, 3, padding=3//2),\n",
        "            nn.BatchNorm2d(1),\n",
        "            nn.ReLU()\n",
        "        )        \n",
        "        \n",
        "    def forward(self, x):\n",
        "            \n",
        "        # batch x 640 x 512\n",
        "        layer_out1 = self.layer1(x)\n",
        "        \n",
        "        # batch x 320 x 256\n",
        "        pool_out1 = self.pooling1(layer_out1)\n",
        "        layer_out2 = self.layer2(pool_out1)\n",
        "        concat_out1 = t.cat((pool_out1, layer_out2), dim=1)\n",
        "        \n",
        "        # batch x 160 x 128\n",
        "        pool_out2 = self.pooling2(concat_out1)\n",
        "        layer_out3 = self.layer3(pool_out2)\n",
        "        concat_out2 = t.cat((pool_out2, layer_out3), dim=1)\n",
        "        \n",
        "        # batch x 80 x 64\n",
        "        pool_out3 = self.pooling3(concat_out2)\n",
        "        layer_out4 = self.layer4(pool_out3)\n",
        "        concat_out3 = t.cat((pool_out3, layer_out4), dim=1)\n",
        "        \n",
        "        # batch x 40 x 32\n",
        "        pool_out4 = self.pooling4(concat_out3)\n",
        "        layer_out5 = self.layer5(pool_out4)\n",
        "        upsample_out1 = func.interpolate(layer_out5, scale_factor=2, mode='bilinear', align_corners=True)\n",
        "        \n",
        "        # batch x 80 x 64\n",
        "        concat_out4 = t.cat((concat_out3, upsample_out1), dim=1)\n",
        "        layer_out6 = self.layer6(concat_out4)\n",
        "        upsample_out2 = func.interpolate(layer_out6, scale_factor=2, mode='bilinear', align_corners=True)\n",
        "        \n",
        "        # batch x 160 x 128\n",
        "        concat_out5 = t.cat((concat_out2, upsample_out2), dim=1)\n",
        "        out = self.layer7(concat_out5)\n",
        "              \n",
        "        return out"
      ],
      "execution_count": 0,
      "outputs": []
    },
    {
      "metadata": {
        "id": "NV2_9ZiZ2IDV",
        "colab_type": "text"
      },
      "cell_type": "markdown",
      "source": [
        "##Custom Dataset Loader"
      ]
    },
    {
      "metadata": {
        "id": "Nnio9v0aklkz",
        "colab_type": "code",
        "colab": {}
      },
      "cell_type": "code",
      "source": [
        "# Custom ToTensor\n",
        "\n",
        "class ToTensor(object):\n",
        "    \"\"\"Convert ndarrays in sample to Tensors.\"\"\"\n",
        "\n",
        "    def __call__(self, sample):\n",
        "        image, labels = sample['image'], sample['labels']\n",
        "        \n",
        "        # swap color axis \n",
        "        # numpy image: H x W x C\n",
        "        # torch image: C X H X W\n",
        "        \n",
        "        image = image.permute(2, 0, 1)\n",
        "        image = image.ToTensor()\n",
        "        \n",
        "        return {'image': image,\n",
        "                'labels': labels}"
      ],
      "execution_count": 0,
      "outputs": []
    },
    {
      "metadata": {
        "id": "aIaIFZmguQQ-",
        "colab_type": "code",
        "colab": {}
      },
      "cell_type": "code",
      "source": [
        "# Custom Rescale\n",
        "\n",
        "class Rescale(object):\n",
        "    \"\"\"Rescale the image in a sample to a given size.\n",
        "\n",
        "    Args:\n",
        "        output_size (tuple or int): Desired output size. If tuple, output is\n",
        "            matched to output_size. If int, smaller of image edges is matched\n",
        "            to output_size keeping aspect ratio the same.\n",
        "    \"\"\"\n",
        "\n",
        "    def __init__(self, height, width):\n",
        "        self.new_h = height\n",
        "        self.new_w = width\n",
        "\n",
        "    def __call__(self, sample):\n",
        "        image, labels = sample['image'], sample['labels']\n",
        "\n",
        "        h, w = image.shape[:2]\n",
        "\n",
        "        new_h, new_w = int(self.new_h), int(self.new_w)\n",
        "        img = transform.resize(image, (new_h, new_w))\n",
        "\n",
        "        return {'image': img, 'labels': labels}"
      ],
      "execution_count": 0,
      "outputs": []
    },
    {
      "metadata": {
        "colab_type": "code",
        "id": "b1HRMDOqfvHm",
        "colab": {}
      },
      "cell_type": "code",
      "source": [
        "\n",
        "# Creation of Custom Dataset and transforms\n",
        "\n",
        "class SoccerBallDataset(Dataset):\n",
        "    \n",
        "    def __init__(self, root_dir, annotation_path, transformation=None):\n",
        "       \n",
        "        self.target = []\n",
        "        self.root_dir = root_dir\n",
        "        self.annotation_path = annotation_path\n",
        "        self.transformation = transformation\n",
        "        self.annotations_frame = pd.read_csv(self.annotation_path)\n",
        "        \n",
        "        for index, rows in self.annotations_frame.iterrows():\n",
        "          img_name, width, height, x1, y1, x2, y2, c_x, c_y, w, h = rows\n",
        "          \n",
        "          x1 = x1 / 4\n",
        "          x2 = x2 / 4\n",
        "          y1 = y1 / 4\n",
        "          y2 = y2 / 4\n",
        "          x = (x1 + x2) / 2\n",
        "          y = (y1 + y2) / 2\n",
        "\n",
        "          center =(x,y)\n",
        "          var = 6\n",
        "          \n",
        "          matrix = np.zeros((128,160))\n",
        "          \n",
        "          if (x>0 and y>0):\n",
        "            for i in range(int(x1), int(x2)):\n",
        "              for j in range(int(y1), int(y2)):\n",
        "                matrix[j,i] = 100*multivariate_normal.pdf([i,j], center, [var,var])\n",
        "       \n",
        "\n",
        "          self.target.append(matrix)\n",
        "          \n",
        "    def __len__(self):\n",
        "        return len(self.target)\n",
        "\n",
        "    def __getitem__(self, idx):\n",
        "        img_name = os.path.join(self.root_dir,\n",
        "                                self.annotations_frame.iloc[idx, 0])\n",
        "        image = io.imread(img_name)\n",
        "        \n",
        "        sample = {'image': t.from_numpy(image), 'labels': t.from_numpy(self.target[idx]).unsqueeze(-1)}\n",
        "        \n",
        "        if self.transformation:\n",
        "            sample = self.transformation(sample)\n",
        "\n",
        "        return sample"
      ],
      "execution_count": 0,
      "outputs": []
    },
    {
      "metadata": {
        "id": "6Rq4mxkz2Wfd",
        "colab_type": "text"
      },
      "cell_type": "markdown",
      "source": [
        "## Evaluation"
      ]
    },
    {
      "metadata": {
        "colab_type": "code",
        "id": "nk7K3Y4GtGvq",
        "colab": {}
      },
      "cell_type": "code",
      "source": [
        "class Sweaty_ModelEvaluator:\n",
        "\n",
        "    def __init__(self, model_path, val_images_path, test_images_path, num_epochs):\n",
        "      self.model_path = model_path\n",
        "      self.val_images_path = val_images_path\n",
        "      self.test_images_path = test_images_path\n",
        "      self.num_epochs = num_epochs\n",
        "      \n",
        "    # Creating and loading the train and test dataset\n",
        "    def data_loading(self, root_dir, annotation_path, batch_size, shuffle):\n",
        "      transformed_dataset = SoccerBallDataset(root_dir, \n",
        "                                              annotation_path, \n",
        "                                              transformation=transforms.Compose([\n",
        "                                                  Rescale(512, 640)\n",
        "                                              ]))\n",
        "\n",
        "      dataset_loader = t.utils.data.DataLoader(transformed_dataset, batch_size=batch_size,\n",
        "                                               shuffle=shuffle, num_workers=4, drop_last=True)\n",
        "\n",
        "      return dataset_loader\n",
        "    \n",
        "    \n",
        "    # Training the model\n",
        "    def train_model(self, model, train_loader):\n",
        "        epoch_loss = []\n",
        "        train_loss_list = []\n",
        "        train_output = []\n",
        "        predicted = 0.0\n",
        "        train_label_size = 0\n",
        "\n",
        "        for epoch in range(self.num_epochs):\n",
        "            running_loss = 0.0\n",
        "            running_corrects = 0\n",
        "\n",
        "            for i, batch in enumerate(train_loader):\n",
        "                batch_images = batch['image'].permute(0,3,1,2)\n",
        "                batch_labels = batch['labels'].permute(0,3,1,2)\n",
        "\n",
        "                batch_images = batch_images/255\n",
        "\n",
        "                if t.cuda.is_available():\n",
        "                  batch_images = batch_images.cuda().float()\n",
        "                  batch_labels = batch_labels.cuda().float()\n",
        "                else:\n",
        "                  batch_images = batch_images\n",
        "                  batch_labels = batch_labels\n",
        "\n",
        "                # Clearing the gradients \n",
        "                sweaty_optimizer.zero_grad()\n",
        "\n",
        "                # Passing the image dataset to the Sweaty model\n",
        "                output = model(batch_images)\n",
        "                train_output.append(output)\n",
        "\n",
        "                # Calculating the Loss(MSE)\n",
        "                train_loss = sweaty_criterion(output, batch_labels)\n",
        "\n",
        "                # Getting the gradients \n",
        "                train_loss.backward()\n",
        "\n",
        "                # Updating the parameters\n",
        "                sweaty_optimizer.step()\n",
        "\n",
        "                train_loss_list.append(train_loss)\n",
        "                running_loss += train_loss.data\n",
        "\n",
        "                train_label_size += batch_labels.size(0) \n",
        "\n",
        "            # Calculate train loss and accuracy  \n",
        "            epoch_loss = running_loss / train_label_size\n",
        "            print('Epoch {}/{}\\t - Loss: {:.8f}'.format(epoch+1, self.num_epochs, epoch_loss.data))\n",
        "            \n",
        "            if epoch % 5 == 0:\n",
        "              t.save(sweaty_model.state_dict(), self.model_path+'sweatynet1_trained_epoch_'+str(epoch)+'.pkl')\n",
        "\n",
        "        return model, train_loss_list, train_output\n",
        "    \n",
        "    \n",
        "    # Validating the model\n",
        "    def validation_model(self, model, val_loader):\n",
        "        epoch_loss = []\n",
        "        val_output = []\n",
        "        val_loss_list = []\n",
        "\n",
        "        # Iterate through validation dataset\n",
        "        for i, batch in enumerate(val_loader):\n",
        "            batch_images = batch['image'].permute(0,3,1,2)\n",
        "            batch_labels = batch['labels'].permute(0,3,1,2)\n",
        "\n",
        "            batch_images = batch_images/255\n",
        "\n",
        "            if t.cuda.is_available():\n",
        "              batch_images = batch_images.cuda().float()\n",
        "              batch_labels = batch_labels.cuda().float()\n",
        "            else:\n",
        "              batch_images = batch_images\n",
        "              batch_labels = batch_labels\n",
        "\n",
        "            # Output from the model\n",
        "            voutput = model(batch_images)\n",
        "            val_output.append(voutput)\n",
        "\n",
        "            # Finding the validation loss\n",
        "            val_loss = sweaty_criterion(voutput, batch_labels)\n",
        "\n",
        "            val_loss_list.append(val_loss)\n",
        "\n",
        "            target_img = self.val_images_path+'sweaty1_val_target'+str(i)+'.png'\n",
        "            output_img = self.val_images_path+'sweaty1_val_output'+str(i)+'.png'\n",
        "\n",
        "            if i % 5 == 0:      \n",
        "              for j in range(1):\n",
        "                print('#',i)\n",
        "                self.visualize_output((batch_labels[j].reshape(1,128,160)).cpu().detach().numpy(), 'Target')\n",
        "                #plt.imshow((batch_images[j].reshape(3,512,640)).cpu().detach().numpy())\n",
        "                self.visualize_output((voutput[j]).cpu().detach().numpy(), 'Output')\n",
        "                #torchvision.utils.save_image(batch_labels[j], target_img)\n",
        "                #torchvision.utils.save_image(voutput[j], output_img)\n",
        "                \n",
        "        return val_output, val_loss_list    \n",
        "\n",
        "    \n",
        "    # Testing the model\n",
        "    def test_model(self, model, test_loader):\n",
        "        epoch_loss = []\n",
        "        test_output = []\n",
        "        test_loss_list = []\n",
        "\n",
        "        # Iterate through test dataset\n",
        "        for i, batch in enumerate(test_loader):\n",
        "            batch_images = batch['image'].permute(0,3,1,2)\n",
        "            batch_labels = batch['labels'].permute(0,3,1,2)\n",
        "\n",
        "            batch_images = batch_images/255\n",
        "\n",
        "            if t.cuda.is_available():\n",
        "              batch_images = batch_images.cuda().float()\n",
        "              batch_labels = batch_labels.cuda().float()\n",
        "            else:\n",
        "              batch_images = batch_images\n",
        "              batch_labels = batch_labels\n",
        "\n",
        "            # Output from the model\n",
        "            outputs = model(batch_images)\n",
        "            test_output.append(outputs)\n",
        "\n",
        "            # Finding the test loss\n",
        "            test_loss = sweaty_criterion(outputs, batch_labels)\n",
        "\n",
        "            test_loss_list.append(test_loss)\n",
        "\n",
        "            target_img = self.test_images_path+'sweaty1_test_target_'+str(i)+'.png'\n",
        "            output_img = self.test_images_path+'sweaty1_test_output_'+str(i)+'.png'\n",
        "            \n",
        "            if 1:      \n",
        "              for j in range(1):\n",
        "                print('\\n#Frame',i)\n",
        "                torchvision.utils.save_image(batch_labels[j], target_img)\n",
        "                torchvision.utils.save_image(outputs[j], output_img)\n",
        "                if i % 5 == 0:\n",
        "                  self.visualize_output((batch_labels[j].reshape(1,128,160)).cpu().detach().numpy(), 'Target')\n",
        "                  #plt.imshow((batch_images[j].reshape(3,512,640)).cpu().detach().numpy())\n",
        "                  self.visualize_output((outputs[j]).cpu().detach().numpy(), 'Output')\n",
        "                \n",
        "                j+=1\n",
        "\n",
        "        return test_output, test_loss_list \n",
        "\n",
        "    # Plotting the loss\n",
        "    def plot_loss(self, loss, save_dir):\n",
        "\n",
        "        plt.clf()\n",
        "\n",
        "        iterations = range(1, len(loss)+1)\n",
        "        plt.title('Loss')\n",
        "        plt.plot(iterations, loss, color = 'b')\n",
        "        plt.xlabel('Number of iterations')\n",
        "        plt.ylabel('Loss')\n",
        "\n",
        "        plt.savefig(save_dir)\n",
        "        plt.clf()  \n",
        "\n",
        "    # Visualizing the output      \n",
        "    def visualize_output(self, out, title='None'):\n",
        "\n",
        "        plt.figure(figsize=(5,5))\n",
        "        for i in range(1):\n",
        "            plt.subplot(6,6,i+1)\n",
        "            #plt.xticks([])\n",
        "            #plt.yticks([])\n",
        "            plt.axes()\n",
        "            plt.grid(False)\n",
        "            plt.Text('Heading')\n",
        "            plt.title(title)\n",
        "            plt.imshow(out[i], cmap = 'gray')\n",
        "            #plt.colorbar()\n",
        "        plt.show()        "
      ],
      "execution_count": 0,
      "outputs": []
    },
    {
      "metadata": {
        "id": "PXNukmAaR8y-",
        "colab_type": "code",
        "colab": {}
      },
      "cell_type": "code",
      "source": [
        "target_coordinate_list=[]"
      ],
      "execution_count": 0,
      "outputs": []
    },
    {
      "metadata": {
        "id": "55_aTZrDj2ug",
        "colab_type": "text"
      },
      "cell_type": "markdown",
      "source": [
        "## Post Processing"
      ]
    },
    {
      "metadata": {
        "id": "b-yUDhnC1ivb",
        "colab_type": "code",
        "colab": {}
      },
      "cell_type": "code",
      "source": [
        "class PostProcessing:\n",
        "\n",
        "    def __init__(self):\n",
        "        self.list_maximal_values_batches = []\n",
        "      \n",
        "    # Creating the test coordinates list of the ball \n",
        "    def get_coordinates(self, annotation_path):\n",
        "\n",
        "        target_coordinates = []\n",
        "        annotations_frame = pd.read_csv(annotation_path)\n",
        "\n",
        "        for index, rows in annotations_frame.iterrows():\n",
        "          _, _, _, x1, y1, x2, y2, _, _, _, _ = rows\n",
        "\n",
        "          x1 = x1 / 4\n",
        "          x2 = x2 / 4\n",
        "          y1 = y1 / 4\n",
        "          y2 = y2 / 4\n",
        "          x = (x1 + x2) / 2\n",
        "          y = (y1 + y2) / 2\n",
        "          center = (x,y)\n",
        "          target_coordinates.append(center)\n",
        "\n",
        "        return target_coordinates\n",
        "            \n",
        "    def erosion(self, output_list):\n",
        "        erosion_list = []\n",
        "        #img = cv2.imread('j.png',0)\n",
        "        kernel = np.ones((4,4),np.uint8)\n",
        "        \n",
        "        for i in range(0, len(output_list)):\n",
        "          out = (output_list[i].reshape(1,128,160)).cpu().detach().numpy()\n",
        "          \n",
        "          erosion_output = cv2.erode(out, kernel, iterations = 1)\n",
        "          erosion_list.append(erosion_output)\n",
        "          \n",
        "        return erosion_list\n",
        "        #return output_list\n",
        "      \n",
        "    \n",
        "    def findmaximal(self, test_output_matrix_image, target_center_coordinates):\n",
        "      \n",
        "      z=test_output_matrix_image.permute(1,2,0)\n",
        "      z=test_output_matrix_image\n",
        "      z.to(dtype=t.float32)\n",
        "      list_with_more_contours=[]\n",
        "      internal_list_distance=[]\n",
        "\n",
        "      center_coord_targ=target_center_coordinates\n",
        "      number=np.count_nonzero(z.cpu().detach().numpy())\n",
        "      if(number>0):\n",
        "\n",
        "        prob_map=z.cpu().detach().numpy()\n",
        "        prob_map = np.squeeze(prob_map)\n",
        "        maximum_value=np.amax(prob_map)\n",
        "        thresh=0.7*maximum_value\n",
        "        bin_map = prob_map > thresh\n",
        "        bin_img = img_as_ubyte(bin_map)\n",
        "        _, cnts ,_= cv2.findContours(bin_img.copy(), cv2.RETR_TREE,cv2.CHAIN_APPROX_SIMPLE)\n",
        "        s=0\n",
        "        r=0\n",
        "        cx=0.0\n",
        "        cy=0.0\n",
        "        for cont in cnts:\n",
        "          M = cv2.moments(cont)\n",
        "          if((M['m00']!=0)): \n",
        "            cx = int(M['m10']/M['m00'])\n",
        "            cy = int(M['m01']/M['m00']) \n",
        "          else:\n",
        "            continue\n",
        "\n",
        "\n",
        "          list_with_more_contours.append((cx,cy))\n",
        "        \n",
        "        if(len(list_with_more_contours)>1):\n",
        "          for k in range(0,len(list_with_more_contours)):\n",
        "            dist=self.calculateDistance(list_with_more_contours[k][0],list_with_more_contours[k][1],target_center_coordinates[0],target_center_coordinates[1])\n",
        "            internal_list_distance.append(dist)\n",
        "\n",
        "          min_index=np.argmin(internal_list_distance)\n",
        "\n",
        "          min_value=list_with_more_contours[min_index]\n",
        "          self.list_maximal_values_batches.append(tuple(min_value))\n",
        "          list_with_more_contours=[]\n",
        "        else:\n",
        "          if(len(list_with_more_contours)>0):  \n",
        "            self.list_maximal_values_batches.append(list_with_more_contours[0])\n",
        "            list_with_more_contours=[] \n",
        "          else:\n",
        "            self.list_maximal_values_batches.append((0,0))\n",
        "            \n",
        "\n",
        "      else:\n",
        "        self.list_maximal_values_batches.append((0,0))\n",
        "        \n",
        "      length_batch=len(self.list_maximal_values_batches)\n",
        "      return self.list_maximal_values_batches[length_batch-1]\n",
        "\n",
        "\n",
        "    def calculateDistance(self, x1,y1,x2,y2):\n",
        "      dist = math.sqrt((x2 - x1)**2 + (y2 - y1)**2)  \n",
        "      return dist  \n",
        "\n",
        "    def calculate_metrics(self, target_list,output_list):\n",
        "      error_threshold=10\n",
        "      true_positive=0\n",
        "      false_positive=0\n",
        "      true_negative=0\n",
        "      false_negative=0\n",
        "      \n",
        "      for i in range(0,len(target_list)):\n",
        "        \n",
        "        \n",
        "        if(target_list[i]==(0,0)):\n",
        "          if output_list[i]!=(0,0):\n",
        "            false_positive+=1\n",
        "          else:\n",
        "            true_negative+=1\n",
        "        else:\n",
        "          if (output_list[i]!=(0,0)):\n",
        "            \n",
        "            distance = self.calculateDistance(target_list[i][0],target_list[i][1],output_list[i][0],output_list[i][1])\n",
        "            if (distance < error_threshold):\n",
        "              true_positive+=1\n",
        "            else:\n",
        "              false_negative+=1\n",
        "          else:\n",
        "            false_negative+=1\n",
        "\n",
        "      list_metrics=[true_positive,true_negative,false_positive,false_negative]    \n",
        "      return list_metrics    \n",
        "\n",
        "    def calculating_metrics(self, metrics_list):\n",
        "      true_positive =  metrics_list[0]\n",
        "      true_negative  = metrics_list[1]\n",
        "      false_positive = metrics_list[2]\n",
        "      false_negative = metrics_list[3]\n",
        "            \n",
        "      Precision=(true_positive)/(false_positive+true_positive)\n",
        "      Recall=(true_positive/(true_positive+false_negative))\n",
        "      IOU=(true_positive/(true_positive+false_positive+false_negative))\n",
        "      FDR=(false_positive/(false_positive+true_positive))\n",
        "      Accuracy=(true_positive+true_negative)/(true_positive+true_negative+false_positive+false_negative)\n",
        "      \n",
        "      list_calculated_metrics=[Precision*100, Recall*100, FDR*100, IOU*100, Accuracy*100]\n",
        "      \n",
        "      return list_calculated_metrics\n",
        "\n",
        "\n",
        "    def find_metrics(self, out_list, annotation_path):\n",
        "      output_list=[]\n",
        "      metrics_list=[]\n",
        "      out_erosion_list=[]\n",
        "      \n",
        "      target_coordinates = self.get_coordinates(annotation_path)\n",
        "      out_erosion_list = self.erosion(out_list)\n",
        "      \n",
        "      \n",
        "      \n",
        "      for i in range(0, len(out_erosion_list)):\n",
        "        output_list.append(self.findmaximal(t.from_numpy(out_erosion_list[i]), target_coordinates[i]))\n",
        "        #output_list.append(self.findmaximal(out_erosion_list[i].squeeze(0), target_coordinates[i]))\n",
        "        \n",
        "\n",
        "      \n",
        "      metrics_list = self.calculate_metrics(target_coordinates,output_list)  \n",
        "      \n",
        "      PostMetrics = self.calculating_metrics(metrics_list)\n",
        "      print(\"Precision: {:.1f} - Recall: {:.1f} - FDR: {:.1f} - IOU: {:.1f} - Accuracy: {:.1f}\"\n",
        "            .format(PostMetrics[0], PostMetrics[1], PostMetrics[2], PostMetrics[3], PostMetrics[4]))\n"
      ],
      "execution_count": 0,
      "outputs": []
    },
    {
      "metadata": {
        "id": "KvlhrRAt2nuB",
        "colab_type": "text"
      },
      "cell_type": "markdown",
      "source": [
        "## Initialization"
      ]
    },
    {
      "metadata": {
        "colab_type": "code",
        "id": "Xy18KPokchNs",
        "colab": {}
      },
      "cell_type": "code",
      "source": [
        "# Hyperparameters\n",
        "learning_rate = 0.001\n",
        "num_epochs = 100\n",
        "batch_size = 1\n",
        "drop_last = True\n",
        "beta1 = 0.5\n",
        "\n",
        "sweaty_model_version = 1\n",
        "\n",
        "# Paths\n",
        "source_path = 'gdrive/My Drive/'\n",
        "model_path = source_path+'SoccerDatasetTrain/sweaty1/'\n",
        "val_images_path = model_path+'val/'\n",
        "test_images_path = model_path+'test/'\n",
        "\n",
        "train_root_dir= source_path+'Data/lab3/'\n",
        "train_anno_path = source_path+'Data/train_lab3.csv'\n",
        "\n",
        "val_root_dir= source_path+'Data/test/'\n",
        "val_anno_path = source_path+'Data/test.csv'\n",
        "\n",
        "test_root_dir= source_path+'Data/final_sequence_test/'\n",
        "test_anno_path = source_path+'Data/final_sequence.csv'\n",
        "\n",
        "\n",
        "sweaty_evaluator = Sweaty_ModelEvaluator(model_path, val_images_path, test_images_path, num_epochs)\n",
        "\n",
        "# Loading the dataset\n",
        "train_loader = sweaty_evaluator.data_loading(train_root_dir, train_anno_path, batch_size, shuffle=True)\n",
        "val_loader = sweaty_evaluator.data_loading(val_root_dir, val_anno_path, batch_size, shuffle=False)\n",
        "test_loader = sweaty_evaluator.data_loading(test_root_dir, test_anno_path, batch_size, shuffle=False)\n",
        "\n",
        "# SweatyNet model object creation\n",
        "if sweaty_model_version == 1:\n",
        "  sweaty_model = SweatyModel1().cuda().float()\n",
        "elif sweaty_model_version == 2:\n",
        "  sweaty_model = SweatyModel2().cuda().float()\n",
        "else:\n",
        "  sweaty_model = SweatyModel3().cuda().float()\n",
        "  \n",
        "# MSE Loss function\n",
        "sweaty_criterion = nn.MSELoss()\n",
        "\n",
        "# Adam Optimitzer function\n",
        "sweaty_optimizer = t.optim.Adam(sweaty_model.parameters(), lr = learning_rate, betas = (beta1, 0.999))"
      ],
      "execution_count": 0,
      "outputs": []
    },
    {
      "metadata": {
        "id": "ye649fJVKx0h",
        "colab_type": "code",
        "colab": {}
      },
      "cell_type": "code",
      "source": [
        "# Training the model\n",
        "trained_model, train_loss_list, train_output = sweaty_evaluator.train_model(sweaty_model, train_loader)"
      ],
      "execution_count": 0,
      "outputs": []
    },
    {
      "metadata": {
        "id": "Hpz9CYRTU-qc",
        "colab_type": "code",
        "outputId": "dd455b16-3f20-4067-b6a2-a3b50906cb51",
        "colab": {
          "base_uri": "https://localhost:8080/",
          "height": 2390
        }
      },
      "cell_type": "code",
      "source": [
        "# Validating the model\n",
        "val_output, val_loss_list = sweaty_evaluator.validation_model(trained_model, val_loader)\n",
        "np.save('gdrive/My Drive/Dataset/sweaty_val_out_final_project_1', val_output)"
      ],
      "execution_count": 0,
      "outputs": [
        {
          "output_type": "stream",
          "text": [
            "/usr/local/lib/python3.6/dist-packages/skimage/transform/_warps.py:84: UserWarning: The default mode, 'constant', will be changed to 'reflect' in skimage 0.15.\n",
            "  warn(\"The default mode, 'constant', will be changed to 'reflect' in \"\n",
            "/usr/local/lib/python3.6/dist-packages/skimage/transform/_warps.py:84: UserWarning: The default mode, 'constant', will be changed to 'reflect' in skimage 0.15.\n",
            "  warn(\"The default mode, 'constant', will be changed to 'reflect' in \"\n",
            "/usr/local/lib/python3.6/dist-packages/skimage/transform/_warps.py:84: UserWarning: The default mode, 'constant', will be changed to 'reflect' in skimage 0.15.\n",
            "  warn(\"The default mode, 'constant', will be changed to 'reflect' in \"\n",
            "/usr/local/lib/python3.6/dist-packages/skimage/transform/_warps.py:84: UserWarning: The default mode, 'constant', will be changed to 'reflect' in skimage 0.15.\n",
            "  warn(\"The default mode, 'constant', will be changed to 'reflect' in \"\n"
          ],
          "name": "stderr"
        },
        {
          "output_type": "stream",
          "text": [
            "# 0\n"
          ],
          "name": "stdout"
        },
        {
          "output_type": "display_data",
          "data": {
            "image/png": "[encoded data removed]",
            "text/plain": [
              "<Figure size 360x360 with 1 Axes>"
            ]
          },
          "metadata": {
            "tags": []
          }
        },
        {
          "output_type": "display_data",
          "data": {
            "image/png": "[encoded data removed]",
            "text/plain": [
              "<Figure size 360x360 with 1 Axes>"
            ]
          },
          "metadata": {
            "tags": []
          }
        },
        {
          "output_type": "stream",
          "text": [
            "# 5\n"
          ],
          "name": "stdout"
        },
        {
          "output_type": "display_data",
          "data": {
            "image/png": "[encoded data removed]",
            "text/plain": [
              "<Figure size 360x360 with 1 Axes>"
            ]
          },
          "metadata": {
            "tags": []
          }
        },
        {
          "output_type": "display_data",
          "data": {
            "image/png": "[encoded data removed]",
            "text/plain": [
              "<Figure size 360x360 with 1 Axes>"
            ]
          },
          "metadata": {
            "tags": []
          }
        },
        {
          "output_type": "stream",
          "text": [
            "# 10\n"
          ],
          "name": "stdout"
        },
        {
          "output_type": "display_data",
          "data": {
            "image/png": "[encoded data removed]",
            "text/plain": [
              "<Figure size 360x360 with 1 Axes>"
            ]
          },
          "metadata": {
            "tags": []
          }
        },
        {
          "output_type": "display_data",
          "data": {
            "image/png": "[encoded data removed]",
            "text/plain": [
              "<Figure size 360x360 with 1 Axes>"
            ]
          },
          "metadata": {
            "tags": []
          }
        },
        {
          "output_type": "stream",
          "text": [
            "# 15\n"
          ],
          "name": "stdout"
        },
        {
          "output_type": "display_data",
          "data": {
            "image/png": "[encoded data removed]",
            "text/plain": [
              "<Figure size 360x360 with 1 Axes>"
            ]
          },
          "metadata": {
            "tags": []
          }
        },
        {
          "output_type": "display_data",
          "data": {
            "image/png": "[encoded data removed]",
            "text/plain": [
              "<Figure size 360x360 with 1 Axes>"
            ]
          },
          "metadata": {
            "tags": []
          }
        }
      ]
    },
    {
      "metadata": {
        "colab_type": "code",
        "id": "PbhjLy22a0_8",
        "outputId": "e10426b5-e10b-42e1-f2f7-0cf6dc4cb19d",
        "colab": {
          "base_uri": "https://localhost:8080/",
          "height": 7830
        }
      },
      "cell_type": "code",
      "source": [
        "# Testing the model\n",
        "test_output, test_loss_list = sweaty_evaluator.test_model(trained_model, test_loader)"
      ],
      "execution_count": 0,
      "outputs": [
        {
          "output_type": "stream",
          "text": [
            "/usr/local/lib/python3.6/dist-packages/skimage/transform/_warps.py:84: UserWarning: The default mode, 'constant', will be changed to 'reflect' in skimage 0.15.\n",
            "  warn(\"The default mode, 'constant', will be changed to 'reflect' in \"\n",
            "/usr/local/lib/python3.6/dist-packages/skimage/transform/_warps.py:84: UserWarning: The default mode, 'constant', will be changed to 'reflect' in skimage 0.15.\n",
            "  warn(\"The default mode, 'constant', will be changed to 'reflect' in \"\n",
            "/usr/local/lib/python3.6/dist-packages/skimage/transform/_warps.py:84: UserWarning: The default mode, 'constant', will be changed to 'reflect' in skimage 0.15.\n",
            "  warn(\"The default mode, 'constant', will be changed to 'reflect' in \"\n",
            "/usr/local/lib/python3.6/dist-packages/skimage/transform/_warps.py:84: UserWarning: The default mode, 'constant', will be changed to 'reflect' in skimage 0.15.\n",
            "  warn(\"The default mode, 'constant', will be changed to 'reflect' in \"\n"
          ],
          "name": "stderr"
        },
        {
          "output_type": "stream",
          "text": [
            "\n",
            "#Frame 0\n"
          ],
          "name": "stdout"
        },
        {
          "output_type": "display_data",
          "data": {
            "image/png": "[encoded data removed]",
            "text/plain": [
              "<Figure size 360x360 with 1 Axes>"
            ]
          },
          "metadata": {
            "tags": []
          }
        },
        {
          "output_type": "display_data",
          "data": {
            "image/png": "[encoded data removed]",
            "text/plain": [
              "<Figure size 360x360 with 1 Axes>"
            ]
          },
          "metadata": {
            "tags": []
          }
        },
        {
          "output_type": "stream",
          "text": [
            "\n",
            "#Frame 1\n",
            "\n",
            "#Frame 2\n",
            "\n",
            "#Frame 3\n",
            "\n",
            "#Frame 4\n",
            "\n",
            "#Frame 5\n"
          ],
          "name": "stdout"
        },
        {
          "output_type": "display_data",
          "data": {
            "image/png": "[encoded data removed]",
            "text/plain": [
              "<Figure size 360x360 with 1 Axes>"
            ]
          },
          "metadata": {
            "tags": []
          }
        },
        {
          "output_type": "display_data",
          "data": {
            "image/png": "[encoded data removed]",
            "text/plain": [
              "<Figure size 360x360 with 1 Axes>"
            ]
          },
          "metadata": {
            "tags": []
          }
        },
        {
          "output_type": "stream",
          "text": [
            "\n",
            "#Frame 6\n",
            "\n",
            "#Frame 7\n",
            "\n",
            "#Frame 8\n",
            "\n",
            "#Frame 9\n",
            "\n",
            "#Frame 10\n"
          ],
          "name": "stdout"
        },
        {
          "output_type": "display_data",
          "data": {
            "image/png": "[encoded data removed]",
            "text/plain": [
              "<Figure size 360x360 with 1 Axes>"
            ]
          },
          "metadata": {
            "tags": []
          }
        },
        {
          "output_type": "display_data",
          "data": {
            "image/png": "[encoded data removed]",
            "text/plain": [
              "<Figure size 360x360 with 1 Axes>"
            ]
          },
          "metadata": {
            "tags": []
          }
        },
        {
          "output_type": "stream",
          "text": [
            "\n",
            "#Frame 11\n",
            "\n",
            "#Frame 12\n",
            "\n",
            "#Frame 13\n",
            "\n",
            "#Frame 14\n",
            "\n",
            "#Frame 15\n"
          ],
          "name": "stdout"
        },
        {
          "output_type": "display_data",
          "data": {
            "image/png": "[encoded data removed]",
            "text/plain": [
              "<Figure size 360x360 with 1 Axes>"
            ]
          },
          "metadata": {
            "tags": []
          }
        },
        {
          "output_type": "display_data",
          "data": {
            "image/png": "[encoded data removed]",
            "text/plain": [
              "<Figure size 360x360 with 1 Axes>"
            ]
          },
          "metadata": {
            "tags": []
          }
        },
        {
          "output_type": "stream",
          "text": [
            "\n",
            "#Frame 16\n",
            "\n",
            "#Frame 17\n",
            "\n",
            "#Frame 18\n",
            "\n",
            "#Frame 19\n",
            "\n",
            "#Frame 20\n"
          ],
          "name": "stdout"
        },
        {
          "output_type": "display_data",
          "data": {
            "image/png": "[encoded data removed]",
            "text/plain": [
              "<Figure size 360x360 with 1 Axes>"
            ]
          },
          "metadata": {
            "tags": []
          }
        },
        {
          "output_type": "display_data",
          "data": {
            "image/png": "[encoded data removed]",
            "text/plain": [
              "<Figure size 360x360 with 1 Axes>"
            ]
          },
          "metadata": {
            "tags": []
          }
        },
        {
          "output_type": "stream",
          "text": [
            "\n",
            "#Frame 21\n",
            "\n",
            "#Frame 22\n",
            "\n",
            "#Frame 23\n",
            "\n",
            "#Frame 24\n",
            "\n",
            "#Frame 25\n"
          ],
          "name": "stdout"
        },
        {
          "output_type": "display_data",
          "data": {
            "image/png": "[encoded data removed]",
            "text/plain": [
              "<Figure size 360x360 with 1 Axes>"
            ]
          },
          "metadata": {
            "tags": []
          }
        },
        {
          "output_type": "display_data",
          "data": {
            "image/png": "[encoded data removed]",
            "text/plain": [
              "<Figure size 360x360 with 1 Axes>"
            ]
          },
          "metadata": {
            "tags": []
          }
        },
        {
          "output_type": "stream",
          "text": [
            "\n",
            "#Frame 26\n",
            "\n",
            "#Frame 27\n",
            "\n",
            "#Frame 28\n",
            "\n",
            "#Frame 29\n",
            "\n",
            "#Frame 30\n"
          ],
          "name": "stdout"
        },
        {
          "output_type": "display_data",
          "data": {
            "image/png": "[encoded data removed]",
            "text/plain": [
              "<Figure size 360x360 with 1 Axes>"
            ]
          },
          "metadata": {
            "tags": []
          }
        },
        {
          "output_type": "display_data",
          "data": {
            "image/png": "[encoded data removed]",
            "text/plain": [
              "<Figure size 360x360 with 1 Axes>"
            ]
          },
          "metadata": {
            "tags": []
          }
        },
        {
          "output_type": "stream",
          "text": [
            "\n",
            "#Frame 31\n",
            "\n",
            "#Frame 32\n",
            "\n",
            "#Frame 33\n",
            "\n",
            "#Frame 34\n",
            "\n",
            "#Frame 35\n"
          ],
          "name": "stdout"
        },
        {
          "output_type": "display_data",
          "data": {
            "image/png": "[encoded data removed]",
            "text/plain": [
              "<Figure size 360x360 with 1 Axes>"
            ]
          },
          "metadata": {
            "tags": []
          }
        },
        {
          "output_type": "display_data",
          "data": {
            "image/png": "[encoded data removed]",
            "text/plain": [
              "<Figure size 360x360 with 1 Axes>"
            ]
          },
          "metadata": {
            "tags": []
          }
        },
        {
          "output_type": "stream",
          "text": [
            "\n",
            "#Frame 36\n",
            "\n",
            "#Frame 37\n",
            "\n",
            "#Frame 38\n",
            "\n",
            "#Frame 39\n",
            "\n",
            "#Frame 40\n"
          ],
          "name": "stdout"
        },
        {
          "output_type": "display_data",
          "data": {
            "image/png": "[encoded data removed]",
            "text/plain": [
              "<Figure size 360x360 with 1 Axes>"
            ]
          },
          "metadata": {
            "tags": []
          }
        },
        {
          "output_type": "display_data",
          "data": {
            "image/png": "[encoded data removed]",
            "text/plain": [
              "<Figure size 360x360 with 1 Axes>"
            ]
          },
          "metadata": {
            "tags": []
          }
        },
        {
          "output_type": "stream",
          "text": [
            "\n",
            "#Frame 41\n",
            "\n",
            "#Frame 42\n",
            "\n",
            "#Frame 43\n",
            "\n",
            "#Frame 44\n",
            "\n",
            "#Frame 45\n"
          ],
          "name": "stdout"
        },
        {
          "output_type": "display_data",
          "data": {
            "image/png": "[encoded data removed]",
            "text/plain": [
              "<Figure size 360x360 with 1 Axes>"
            ]
          },
          "metadata": {
            "tags": []
          }
        },
        {
          "output_type": "display_data",
          "data": {
            "image/png": "[encoded data removed]",
            "text/plain": [
              "<Figure size 360x360 with 1 Axes>"
            ]
          },
          "metadata": {
            "tags": []
          }
        },
        {
          "output_type": "stream",
          "text": [
            "\n",
            "#Frame 46\n",
            "\n",
            "#Frame 47\n",
            "\n",
            "#Frame 48\n",
            "\n",
            "#Frame 49\n",
            "\n",
            "#Frame 50\n"
          ],
          "name": "stdout"
        },
        {
          "output_type": "display_data",
          "data": {
            "image/png": "[encoded data removed]",
            "text/plain": [
              "<Figure size 360x360 with 1 Axes>"
            ]
          },
          "metadata": {
            "tags": []
          }
        },
        {
          "output_type": "display_data",
          "data": {
            "image/png": "[encoded data removed]",
            "text/plain": [
              "<Figure size 360x360 with 1 Axes>"
            ]
          },
          "metadata": {
            "tags": []
          }
        },
        {
          "output_type": "stream",
          "text": [
            "\n",
            "#Frame 51\n"
          ],
          "name": "stdout"
        }
      ]
    },
    {
      "metadata": {
        "id": "m_lHNTv2U7kq",
        "colab_type": "code",
        "colab": {}
      },
      "cell_type": "code",
      "source": [
        "# Plotting Loss\n",
        "#plot_loss(train_loss_list, model_path+'sweaty2_train_loss_final_1000.png')\n",
        "sweaty_evaluator.plot_loss(val_loss_list, model_path+'sweaty1_val_loss.png')\n",
        "sweaty_evaluator.plot_loss(test_loss_list, model_path+'sweaty1_test_loss.png')"
      ],
      "execution_count": 0,
      "outputs": []
    },
    {
      "metadata": {
        "id": "W3muB1nGlUxc",
        "colab_type": "code",
        "outputId": "b53eeea2-49ee-470a-f003-198f46f08aa4",
        "colab": {
          "base_uri": "https://localhost:8080/",
          "height": 338
        }
      },
      "cell_type": "code",
      "source": [
        "test_target_list=[]\n",
        "for i, batch in enumerate(test_loader):\n",
        "  test_target_list.append(batch['labels'])\n",
        "  \n",
        "print(len(test_target_list))\n",
        "\n",
        "val_target_list=[]\n",
        "for i, batch in enumerate(val_loader):\n",
        "  val_target_list.append(batch['labels'])\n",
        "  \n",
        "print(len(val_target_list))\n"
      ],
      "execution_count": 0,
      "outputs": [
        {
          "output_type": "stream",
          "text": [
            "/usr/local/lib/python3.6/dist-packages/skimage/transform/_warps.py:84: UserWarning: The default mode, 'constant', will be changed to 'reflect' in skimage 0.15.\n",
            "  warn(\"The default mode, 'constant', will be changed to 'reflect' in \"\n",
            "/usr/local/lib/python3.6/dist-packages/skimage/transform/_warps.py:84: UserWarning: The default mode, 'constant', will be changed to 'reflect' in skimage 0.15.\n",
            "  warn(\"The default mode, 'constant', will be changed to 'reflect' in \"\n",
            "/usr/local/lib/python3.6/dist-packages/skimage/transform/_warps.py:84: UserWarning: The default mode, 'constant', will be changed to 'reflect' in skimage 0.15.\n",
            "  warn(\"The default mode, 'constant', will be changed to 'reflect' in \"\n",
            "/usr/local/lib/python3.6/dist-packages/skimage/transform/_warps.py:84: UserWarning: The default mode, 'constant', will be changed to 'reflect' in skimage 0.15.\n",
            "  warn(\"The default mode, 'constant', will be changed to 'reflect' in \"\n"
          ],
          "name": "stderr"
        },
        {
          "output_type": "stream",
          "text": [
            "52\n"
          ],
          "name": "stdout"
        },
        {
          "output_type": "stream",
          "text": [
            "/usr/local/lib/python3.6/dist-packages/skimage/transform/_warps.py:84: UserWarning: The default mode, 'constant', will be changed to 'reflect' in skimage 0.15.\n",
            "  warn(\"The default mode, 'constant', will be changed to 'reflect' in \"\n",
            "/usr/local/lib/python3.6/dist-packages/skimage/transform/_warps.py:84: UserWarning: The default mode, 'constant', will be changed to 'reflect' in skimage 0.15.\n",
            "  warn(\"The default mode, 'constant', will be changed to 'reflect' in \"\n",
            "/usr/local/lib/python3.6/dist-packages/skimage/transform/_warps.py:84: UserWarning: The default mode, 'constant', will be changed to 'reflect' in skimage 0.15.\n",
            "  warn(\"The default mode, 'constant', will be changed to 'reflect' in \"\n",
            "/usr/local/lib/python3.6/dist-packages/skimage/transform/_warps.py:84: UserWarning: The default mode, 'constant', will be changed to 'reflect' in skimage 0.15.\n",
            "  warn(\"The default mode, 'constant', will be changed to 'reflect' in \"\n"
          ],
          "name": "stderr"
        },
        {
          "output_type": "stream",
          "text": [
            "19\n"
          ],
          "name": "stdout"
        }
      ]
    },
    {
      "metadata": {
        "id": "pgN7WOoG6Quy",
        "colab_type": "code",
        "outputId": "58045ad2-4127-45aa-a3c0-6883f2f5b9e9",
        "colab": {
          "base_uri": "https://localhost:8080/",
          "height": 251
        }
      },
      "cell_type": "code",
      "source": [
        "# Find Recall, FDR & IoU for SweatyNet\n",
        "\n",
        "sweaty_postprocess = PostProcessing()\n",
        "print('-------Sweaty Validation Set-------')\n",
        "#sweaty_postprocess.find_metrics(val_target_list, val_anno_path, val_output, 'sweaty')\n",
        "sweaty_postprocess.find_metrics(val_output, val_anno_path)\n",
        "print('\\n\\n-------Sweaty Test Set-------')\n",
        "sweaty_postprocess.find_metrics(test_output, test_anno_path)\n",
        "\n",
        "#sweaty_postprocess.find_metrics(test_target_list, test_anno_path, test_output, 'sweaty')"
      ],
      "execution_count": 0,
      "outputs": [
        {
          "output_type": "stream",
          "text": [
            "-------Sweaty Validation Set-------\n",
            "false_positive 0\n",
            "true_positive 19\n",
            "true_negative 0\n",
            "false_negative 0\n",
            "Precision: 100.0 - Recall: 100.0 - FDR: 0.0 - IOU: 100.0 - Accuracy: 100.0\n",
            "\n",
            "\n",
            "-------Sweaty Test Set-------\n",
            "false_positive 1\n",
            "true_positive 29\n",
            "true_negative 22\n",
            "false_negative 0\n",
            "Precision: 96.7 - Recall: 100.0 - FDR: 3.3 - IOU: 96.7 - Accuracy: 98.1\n"
          ],
          "name": "stdout"
        }
      ]
    },
    {
      "metadata": {
        "id": "shExGmc1Pueu",
        "colab_type": "text"
      },
      "cell_type": "markdown",
      "source": [
        "# Conv LSTM"
      ]
    },
    {
      "metadata": {
        "id": "zWR1N2KPBCZS",
        "colab_type": "text"
      },
      "cell_type": "markdown",
      "source": [
        "## Conv LSTM - Model\n",
        "\n"
      ]
    },
    {
      "metadata": {
        "id": "brq7AqzW7-5w",
        "colab_type": "code",
        "colab": {}
      },
      "cell_type": "code",
      "source": [
        "## https://github.com/ndrplz/ConvLSTM_pytorch\n",
        "\n",
        "import torch.nn as nn\n",
        "from torch.autograd import Variable\n",
        "import torch\n",
        "\n",
        "\n",
        "class ConvLSTMCell(nn.Module):\n",
        "\n",
        "    def __init__(self, input_size, input_dim, hidden_dim, kernel_size, bias):\n",
        "        \"\"\"\n",
        "        Initialize ConvLSTM cell.\n",
        "        \n",
        "        Parameters\n",
        "        ----------\n",
        "        input_size: (int, int)\n",
        "            Height and width of input tensor as (height, width).\n",
        "        input_dim: int\n",
        "            Number of channels of input tensor.\n",
        "        hidden_dim: int\n",
        "            Number of channels of hidden state.\n",
        "        kernel_size: (int, int)\n",
        "            Size of the convolutional kernel.\n",
        "        bias: bool\n",
        "            Whether or not to add the bias.\n",
        "        \"\"\"\n",
        "\n",
        "        super(ConvLSTMCell, self).__init__()\n",
        "\n",
        "        self.height, self.width = input_size\n",
        "        self.input_dim  = input_dim\n",
        "        self.hidden_dim = hidden_dim\n",
        "\n",
        "        self.kernel_size = kernel_size\n",
        "        self.padding     = kernel_size[0] // 2, kernel_size[1] // 2\n",
        "        self.bias        = bias\n",
        "        \n",
        "        self.conv = nn.Conv2d(in_channels=self.input_dim + self.hidden_dim,\n",
        "                              out_channels=4 * self.hidden_dim,\n",
        "                              kernel_size=self.kernel_size,\n",
        "                              padding=self.padding,\n",
        "                              bias=self.bias)\n",
        "\n",
        "    def forward(self, input_tensor, cur_state):\n",
        "        \n",
        "        h_cur, c_cur = cur_state\n",
        "        \n",
        "        combined = torch.cat([input_tensor, h_cur], dim=1)  # concatenate along channel axis\n",
        "        \n",
        "        combined_conv = self.conv(combined)\n",
        "        cc_i, cc_f, cc_o, cc_g = torch.split(combined_conv, self.hidden_dim, dim=1) \n",
        "        i = torch.sigmoid(cc_i)\n",
        "        f = torch.sigmoid(cc_f)\n",
        "        o = torch.sigmoid(cc_o)\n",
        "        g = torch.tanh(cc_g)\n",
        "\n",
        "        c_next = f * c_cur + i * g\n",
        "        h_next = o * torch.tanh(c_next)\n",
        "        \n",
        "        return h_next, c_next\n",
        "\n",
        "    def init_hidden(self, batch_size):\n",
        "        return (Variable(torch.zeros(batch_size, self.hidden_dim, self.height, self.width)).cuda(),\n",
        "                Variable(torch.zeros(batch_size, self.hidden_dim, self.height, self.width)).cuda())\n",
        "\n",
        "\n",
        "class ConvLSTM(nn.Module):\n",
        "\n",
        "    def __init__(self, input_size, input_dim, hidden_dim, kernel_size, num_layers,\n",
        "                 batch_first=False, bias=True, return_all_layers=False):\n",
        "        super(ConvLSTM, self).__init__()\n",
        "\n",
        "        self._check_kernel_size_consistency(kernel_size)\n",
        "\n",
        "        # Make sure that both `kernel_size` and `hidden_dim` are lists having len == num_layers\n",
        "        kernel_size = self._extend_for_multilayer(kernel_size, num_layers)\n",
        "        hidden_dim  = self._extend_for_multilayer(hidden_dim, num_layers)\n",
        "        if not len(kernel_size) == len(hidden_dim) == num_layers:\n",
        "            raise ValueError('Inconsistent list length.')\n",
        "\n",
        "        self.height, self.width = input_size\n",
        "\n",
        "        self.input_dim  = input_dim\n",
        "        self.hidden_dim = hidden_dim\n",
        "        self.kernel_size = kernel_size\n",
        "        self.num_layers = num_layers\n",
        "        self.batch_first = batch_first\n",
        "        self.bias = bias\n",
        "        self.return_all_layers = return_all_layers\n",
        "\n",
        "        cell_list = []\n",
        "        for i in range(0, self.num_layers):\n",
        "            cur_input_dim = self.input_dim if i == 0 else self.hidden_dim[i-1]\n",
        "\n",
        "            cell_list.append(ConvLSTMCell(input_size=(self.height, self.width),\n",
        "                                          input_dim=cur_input_dim,\n",
        "                                          hidden_dim=self.hidden_dim[i],\n",
        "                                          kernel_size=self.kernel_size[i],\n",
        "                                          bias=self.bias))\n",
        "\n",
        "        self.cell_list = nn.ModuleList(cell_list)\n",
        "\n",
        "    def forward(self, input_tensor, hidden_state=None):\n",
        "        \"\"\"\n",
        "        \n",
        "        Parameters\n",
        "        ----------\n",
        "        input_tensor: todo \n",
        "            5-D Tensor either of shape (t, b, c, h, w) or (b, t, c, h, w)\n",
        "        hidden_state: todo\n",
        "            None. todo implement stateful\n",
        "            \n",
        "        Returns\n",
        "        -------\n",
        "        last_state_list, layer_output\n",
        "        \"\"\"\n",
        "        if not self.batch_first:\n",
        "            # (t, b, c, h, w) -> (b, t, c, h, w)\n",
        "            input_tensor = input_tensor.permute(1, 0, 2, 3, 4)\n",
        "\n",
        "        # Implement stateful ConvLSTM\n",
        "        if hidden_state is not None:\n",
        "            raise  NotImplementedError ()\n",
        "        else:\n",
        "            hidden_state = self._init_hidden(batch_size=input_tensor.size(0))\n",
        "\n",
        "        layer_output_list = []\n",
        "        last_state_list   = []\n",
        "\n",
        "        seq_len = input_tensor.size(1)\n",
        "        cur_layer_input = input_tensor\n",
        "\n",
        "        for layer_idx in range(self.num_layers):\n",
        "\n",
        "            h, c = hidden_state[layer_idx]\n",
        "            output_inner = []\n",
        "            for t in range(seq_len):\n",
        "\n",
        "                h, c = self.cell_list[layer_idx](input_tensor=cur_layer_input[:, t, :, :, :],\n",
        "                                                 cur_state=[h, c])\n",
        "                \n",
        "                output_inner.append(h)\n",
        "\n",
        "            layer_output = torch.stack(output_inner, dim=1)\n",
        "            cur_layer_input = layer_output\n",
        "\n",
        "            layer_output_list.append(layer_output)\n",
        "            last_state_list.append([h, c])\n",
        "\n",
        "        if not self.return_all_layers:\n",
        "            layer_output_list = layer_output_list[-1:]\n",
        "            last_state_list   = last_state_list[-1:]\n",
        "\n",
        "        return layer_output_list, last_state_list\n",
        "\n",
        "    def _init_hidden(self, batch_size):\n",
        "        init_states = []\n",
        "        for i in range(self.num_layers):\n",
        "            init_states.append(self.cell_list[i].init_hidden(batch_size))\n",
        "        return init_states\n",
        "\n",
        "    @staticmethod\n",
        "    def _check_kernel_size_consistency(kernel_size):\n",
        "        if not (isinstance(kernel_size, tuple) or\n",
        "                    (isinstance(kernel_size, list) and all([isinstance(elem, tuple) for elem in kernel_size]))):\n",
        "            raise ValueError('`kernel_size` must be tuple or list of tuples')\n",
        "\n",
        "    @staticmethod\n",
        "    def _extend_for_multilayer(param, num_layers):\n",
        "        if not isinstance(param, list):\n",
        "            param = [param] * num_layers\n",
        "        return param"
      ],
      "execution_count": 0,
      "outputs": []
    },
    {
      "metadata": {
        "id": "pEGdF9EW2LML",
        "colab_type": "code",
        "colab": {}
      },
      "cell_type": "code",
      "source": [
        "class Convlstm_PostProcessing:\n",
        "\n",
        "    def __init__(self):\n",
        "        self.list_maximal_values_batches = []\n",
        "      \n",
        "    # Creating the test coordinates list of the ball \n",
        "    def get_coordinates(self, annotation_path):\n",
        "\n",
        "        target_coordinates = []\n",
        "        annotations_frame = pd.read_csv(annotation_path)\n",
        "\n",
        "        for index, rows in annotations_frame.iterrows():\n",
        "          _, _, _, x1, y1, x2, y2, _, _, _, _ = rows\n",
        "\n",
        "          x1 = x1 / 4\n",
        "          x2 = x2 / 4\n",
        "          y1 = y1 / 4\n",
        "          y2 = y2 / 4\n",
        "          x = (x1 + x2) / 2\n",
        "          y = (y1 + y2) / 2\n",
        "          center = (x,y)\n",
        "          target_coordinates.append(center)\n",
        "\n",
        "        return target_coordinates\n",
        "            \n",
        "    def erosion(self, output_list):\n",
        "        erosion_list = []\n",
        "        \n",
        "        kernel = np.ones((4,4),np.uint8)\n",
        "        \n",
        "        for i in range(0, len(output_list)):\n",
        "          out = (output_list[i].reshape(1,128,160)).cpu().detach().numpy()\n",
        "          \n",
        "          erosion_output = cv2.erode(out, kernel, iterations = 1)\n",
        "          erosion_list.append(erosion_output)\n",
        "          \n",
        "        return erosion_list\n",
        "        \n",
        "      \n",
        "    \n",
        "    def findmaximal(self, test_output_matrix_image, target_center_coordinates):\n",
        "      z=test_output_matrix_image.permute(1,2,0)\n",
        "      z=test_output_matrix_image\n",
        "      z.to(dtype=t.float32)\n",
        "      list_with_more_contours=[]\n",
        "      internal_list_distance=[]\n",
        "\n",
        "      center_coord_targ=target_center_coordinates\n",
        "      number=np.count_nonzero(z.cpu().detach().numpy())\n",
        "      if(number>0):\n",
        "\n",
        "        prob_map=z.cpu().detach().numpy()\n",
        "        prob_map = np.squeeze(prob_map)\n",
        "        maximum_value=np.amax(prob_map)\n",
        "        thresh=0.8*maximum_value\n",
        "        bin_map = prob_map > thresh\n",
        "        bin_img = img_as_ubyte(bin_map)\n",
        "        _, cnts ,_= cv2.findContours(bin_img.copy(), cv2.RETR_TREE,cv2.CHAIN_APPROX_SIMPLE)\n",
        "        s=0\n",
        "        r=0\n",
        "        \n",
        "        cx=0.0\n",
        "        cy=0.0\n",
        "        #print(\"contours\",cnts)\n",
        "        for cont in cnts:\n",
        "          M = cv2.moments(cont)\n",
        "          if((M['m00']!=0)): \n",
        "            cx = int(M['m10']/M['m00'])\n",
        "            cy = int(M['m01']/M['m00']) \n",
        "          else:\n",
        "            continue\n",
        "\n",
        "\n",
        "          list_with_more_contours.append((cx,cy))\n",
        "        \n",
        "        if(len(list_with_more_contours)>1):\n",
        "          #print(\"list_with_more_contours\",list_with_more_contours)\n",
        "          for k in range(0,len(list_with_more_contours)):\n",
        "            dist=self.calculateDistance(list_with_more_contours[k][0],list_with_more_contours[k][1],target_center_coordinates[0],target_center_coordinates[1])\n",
        "            internal_list_distance.append(dist)\n",
        "\n",
        "          min_index=np.argmin(internal_list_distance)\n",
        "\n",
        "          min_value=list_with_more_contours[min_index]\n",
        "          self.list_maximal_values_batches.append(tuple(min_value))\n",
        "          list_with_more_contours=[]\n",
        "        else:\n",
        "          \n",
        "          if(len(list_with_more_contours)>0):  \n",
        "            #print(list_with_more_contours)\n",
        "            self.list_maximal_values_batches.append(list_with_more_contours[0])\n",
        "            list_with_more_contours=[] \n",
        "          else:\n",
        "            self.list_maximal_values_batches.append((0,0))\n",
        "            \n",
        "\n",
        "      else:\n",
        "        self.list_maximal_values_batches.append((0,0))\n",
        "        \n",
        "      length_batch=len(self.list_maximal_values_batches)\n",
        "      return self.list_maximal_values_batches[length_batch-1]\n",
        "\n",
        "\n",
        "    def calculateDistance(self, x1,y1,x2,y2):\n",
        "      dist = math.sqrt((x2 - x1)**2 + (y2 - y1)**2)  \n",
        "      return dist  \n",
        "\n",
        "    def calculate_metrics(self, target_list,output_list):\n",
        "      error_threshold=5\n",
        "      true_positive=0\n",
        "      false_positive=0\n",
        "      true_negative=0\n",
        "      false_negative=0\n",
        "      \n",
        "      #print('Target: ',target_list)\n",
        "      #print('Output: ',output_list)\n",
        "      \n",
        "      for i in range(0,len(target_list)):\n",
        "        \n",
        "        #print('Target: ', target_list[i])\n",
        "        #print('Output: ', output_list)\n",
        "        if(target_list[i]==(0,0)):\n",
        "          if output_list[i]!=(0,0):\n",
        "            false_positive+=1\n",
        "          else:\n",
        "            true_negative+=1\n",
        "        else:\n",
        "          if (output_list[i]!=(0,0)):\n",
        "            \n",
        "            distance = self.calculateDistance(target_list[i][0],target_list[i][1],output_list[i][0],output_list[i][1])\n",
        "            if (distance < error_threshold):\n",
        "              true_positive+=1\n",
        "            else:\n",
        "              false_negative+=1\n",
        "          else:\n",
        "            false_negative+=1\n",
        "\n",
        "      list_metrics=[true_positive,true_negative,false_positive,false_negative]    \n",
        "      return list_metrics    \n",
        "\n",
        "    def calculating_metrics(self, metrics_list):\n",
        "      true_positive =  metrics_list[0]\n",
        "      true_negative  = metrics_list[1]\n",
        "      false_positive = metrics_list[2]\n",
        "      false_negative = metrics_list[3]\n",
        "      \n",
        "      Precision=(true_positive)/(false_positive+true_positive)\n",
        "      Recall=(true_positive/(true_positive+false_negative))\n",
        "      IOU=(true_positive/(true_positive+false_positive+false_negative))\n",
        "      FDR=(false_positive/(false_positive+true_positive))\n",
        "      Accuracy=(true_positive+true_negative)/(true_positive+true_negative+false_positive+false_negative)\n",
        "      \n",
        "      list_calculated_metrics=[Precision*100, Recall*100, FDR*100, IOU*100, Accuracy*100]\n",
        "      \n",
        "      return list_calculated_metrics\n",
        "\n",
        "    def find_metrics(self, target_list, annotation_path, out_list, findmetric):\n",
        "      #print('target_list',len(target_list))\n",
        "      output_list=[]\n",
        "      metrics_list=[]\n",
        "      out_erosion_list=[]\n",
        "      target_lis=[]\n",
        "      target_coordinates = self.get_coordinates(annotation_path)\n",
        "      #out_erosion_list_target = self.erosion(target_list)\n",
        "      \n",
        "      out_erosion_list_output = self.erosion(out_list)\n",
        "      \n",
        "      if findmetric == 'convlstm':\n",
        "          for i in range(0, len(target_list)):\n",
        "            #print(target_list[i].shape)\n",
        "            target_lis.append(self.findmaximal((target_list[i].squeeze(0)), target_coordinates[i]))\n",
        "          for i in range(0, len(out_erosion_list_output)):  \n",
        "            output_list.append(self.findmaximal(t.from_numpy(out_erosion_list_output[i]), target_lis[i]))\n",
        "        #print(\"output list length\",len(target_coordinates_centers),len(output_list))    \n",
        "          metrics_list = self.calculate_metrics(target_lis, output_list)  \n",
        "      \n",
        "      else:\n",
        "          for i in range(0, len(out_erosion_list_output)):\n",
        "            output_list.append(self.findmaximal(t.from_numpy(out_erosion_list_output[i]), target_coordinates[i]))\n",
        "          metrics_list = self.calculate_metrics(target_coordinates, output_list)\n",
        "      \n",
        "      PostMetrics = self.calculating_metrics(metrics_list)\n",
        "      print(\"Precision: {:.1f} - Recall: {:.1f} - FDR: {:.1f} - IOU: {:.1f} - Accuracy: {:.1f}\"\n",
        "            .format(PostMetrics[0], PostMetrics[1], PostMetrics[2], PostMetrics[3], PostMetrics[4]))\n"
      ],
      "execution_count": 0,
      "outputs": []
    },
    {
      "metadata": {
        "id": "XxQRqettAdyZ",
        "colab_type": "text"
      },
      "cell_type": "markdown",
      "source": [
        "## Conv LSTM - Evaluation"
      ]
    },
    {
      "metadata": {
        "id": "OT8mD2-LTJ7f",
        "colab_type": "code",
        "colab": {}
      },
      "cell_type": "code",
      "source": [
        "class Convlstm_ModelEvaluator:\n",
        "\n",
        "    def __init__(self, model_path, conv_img_path):\n",
        "      self.model_path = model_path\n",
        "      self.conv_img_path = conv_img_path\n",
        "\n",
        "    def convlstm_train(self, convlstm_model, val_loader, val_output):\n",
        "\n",
        "        convlstm_output=[]\n",
        "        num_epochs = 50\n",
        "        seq_len = 5\n",
        "\n",
        "        for epoch in range(num_epochs):\n",
        "            iter = 0\n",
        "\n",
        "            for i, batch in enumerate(val_loader):\n",
        "\n",
        "                batch_labels = batch['labels'].permute(0, 3, 1, 2).cuda().float()\n",
        "                target = batch_labels\n",
        "                input = val_output[i]\n",
        "    \n",
        "                for k in range(iter, (seq_len-1)+i):\n",
        "    \n",
        "                    if(i+4 <= len(val_loader.dataset)-1):\n",
        "                        input = t.cat((input, val_output[k]), dim = 0)\n",
        "                        target = t.cat((target, val_loader.dataset[k]['labels'].permute(2, 0, 1).unsqueeze(0).cuda().float()), dim = 0)\n",
        "                    else:\n",
        "                        break\n",
        "\n",
        "    \n",
        "                target = target[-1].unsqueeze(0)\n",
        "                input = input.unsqueeze(0)\n",
        "\n",
        "                convlstm_model.zero_grad()\n",
        "                conv_out = convlstm_model(input.detach(), hidden_state=None)\n",
        "    \n",
        "                convlstm_loss = convlstm_criterion(conv_out[1][0][0], target)\n",
        "    \n",
        "                convlstm_loss.backward()\n",
        "                convlstm_optimizer.step()\n",
        "\n",
        "                target_img = self.conv_img_path+'convlstm\\sweaty1_lab3_convtrain_target'+str(i)+'.png'\n",
        "                output_img = self.conv_img_path+'convlstm\\sweaty1_lab3_convtrain_output'+str(i)+'.png'\n",
        "  \n",
        "                if iter % 5 == 0:\n",
        "                  torchvision.utils.save_image(target, target_img)\n",
        "                  torchvision.utils.save_image(conv_out[1][0][0][0], output_img)\n",
        "\n",
        "                  #Sweaty_ModelEvaluator.visualize_output((target.reshape(1,128,160)).cpu().detach().numpy(), 'Target')\n",
        "                  #Sweaty_ModelEvaluator.visualize_output((conv_out[1][0][0][0]).cpu().detach().numpy(), 'Output')\n",
        "                \n",
        "                iter += 1  \n",
        "\n",
        "            print('Epoch: {}/{} - Loss: {:.6f}'.format(epoch+1, num_epochs, convlstm_loss.data))\n",
        "            t.save(convlstm_model.state_dict(), self.model_path+'convlstm_sweatynet1_trained_model_'+str(epoch)+'.pkl')\n",
        "\n",
        "        return convlstm_model  \n",
        "\n",
        "\n",
        "    def convlstm_test(self, convlstm_trained, test_loader, test_output):\n",
        "\n",
        "        convlstm_output=[]\n",
        "        convlstm_target=[]\n",
        "        seq_len = 5\n",
        "\n",
        "        iter = 0\n",
        "\n",
        "        for i, batch in enumerate(test_loader):\n",
        "\n",
        "            batch_labels = batch['labels'].permute(0, 3, 1, 2).cuda().float()\n",
        "            target = batch_labels\n",
        "            input = test_output[i]\n",
        "\n",
        "            for k in range(iter, (seq_len-1)+i):\n",
        "                if(i+4 <= len(test_loader.dataset)-1):\n",
        "                  input = t.cat((input, test_output[k]), dim = 0)\n",
        "                  target = t.cat((target, test_loader.dataset[k]['labels'].permute(2, 0, 1).unsqueeze(0).cuda().float()), dim = 0)\n",
        "                else:\n",
        "                  break\n",
        "\n",
        "            target = target[-1].unsqueeze(0)\n",
        "            input = input.unsqueeze(0)\n",
        "\n",
        "\n",
        "            conv_out = convlstm_trained(input, hidden_state=None)\n",
        "            convlstm_output.append(conv_out[1][0][0])\n",
        "            convlstm_target.append(target)\n",
        "\n",
        "            target_img = self.conv_img_path+'sweaty1_lab3_convtest_target'+str(i)+'.png'\n",
        "            output_img = self.conv_img_path+'sweaty1_lab3_convtest_output'+str(i)+'.png'\n",
        "            torchvision.utils.save_image(target, target_img)\n",
        "            torchvision.utils.save_image(conv_out[1][0][0][0], output_img)\n",
        "            #Sweaty_ModelEvaluator.visualize_output((target.reshape(1,128,160)).cpu().detach().numpy(), 'Target')\n",
        "            #Sweaty_ModelEvaluator.visualize_output((conv_out[1][0][0][0]).cpu().detach().numpy(), 'Output')\n",
        "\n",
        "            iter += 1  \n",
        "\n",
        "        return convlstm_output, convlstm_target        \n",
        "\n"
      ],
      "execution_count": 0,
      "outputs": []
    },
    {
      "metadata": {
        "id": "B0Zd7OEZCD8-",
        "colab_type": "code",
        "colab": {}
      },
      "cell_type": "code",
      "source": [
        "# Hyperparameters\n",
        "learning_rate = 0.001\n",
        "\n",
        "# Conv LSTM model object creation\n",
        "height, width = 128, 160\n",
        "convlstm_model = ConvLSTM(input_size=(height, width), \n",
        "                 input_dim=1,\n",
        "                 hidden_dim=[32,1],\n",
        "                 kernel_size=(3,3),\n",
        "                 num_layers=2,\n",
        "                 batch_first=True,\n",
        "                 bias=False,\n",
        "                 return_all_layers=False)\n",
        "\n",
        "# Initializing the MSE Loss function\n",
        "convlstm_criterion = nn.MSELoss()\n",
        "\n",
        "# Initializing the Adam Optimitzer function\n",
        "convlstm_optimizer = t.optim.Adam(convlstm_model.parameters(), lr = learning_rate)\n",
        "\n",
        "source_path = 'gdrive/My Drive/'\n",
        "model_path = source_path+'SoccerDatasetTrain/sweaty1/'\n",
        "conv_img_path = source_path+'SoccerDatasetTrain/sweaty1/conv/'\n",
        "convlstm_eval = Convlstm_ModelEvaluator(model_path, conv_img_path)"
      ],
      "execution_count": 0,
      "outputs": []
    },
    {
      "metadata": {
        "id": "U_QYKUyfCrRf",
        "colab_type": "code",
        "outputId": "8adae509-20d5-442d-f91b-0acae7bcffa7",
        "colab": {
          "base_uri": "https://localhost:8080/",
          "height": 1040
        }
      },
      "cell_type": "code",
      "source": [
        "# Training the model\n",
        "convlstm_trained = convlstm_eval.convlstm_train(convlstm_model, val_loader, val_output)"
      ],
      "execution_count": 0,
      "outputs": [
        {
          "output_type": "stream",
          "text": [
            "/usr/local/lib/python3.6/dist-packages/skimage/transform/_warps.py:84: UserWarning: The default mode, 'constant', will be changed to 'reflect' in skimage 0.15.\n",
            "  warn(\"The default mode, 'constant', will be changed to 'reflect' in \"\n",
            "/usr/local/lib/python3.6/dist-packages/skimage/transform/_warps.py:84: UserWarning: The default mode, 'constant', will be changed to 'reflect' in skimage 0.15.\n",
            "  warn(\"The default mode, 'constant', will be changed to 'reflect' in \"\n",
            "/usr/local/lib/python3.6/dist-packages/skimage/transform/_warps.py:84: UserWarning: The default mode, 'constant', will be changed to 'reflect' in skimage 0.15.\n",
            "  warn(\"The default mode, 'constant', will be changed to 'reflect' in \"\n",
            "/usr/local/lib/python3.6/dist-packages/skimage/transform/_warps.py:84: UserWarning: The default mode, 'constant', will be changed to 'reflect' in skimage 0.15.\n",
            "  warn(\"The default mode, 'constant', will be changed to 'reflect' in \"\n",
            "/usr/local/lib/python3.6/dist-packages/skimage/transform/_warps.py:84: UserWarning: The default mode, 'constant', will be changed to 'reflect' in skimage 0.15.\n",
            "  warn(\"The default mode, 'constant', will be changed to 'reflect' in \"\n"
          ],
          "name": "stderr"
        },
        {
          "output_type": "stream",
          "text": [
            "Epoch: 1/50 - Loss: 0.005293\n",
            "Epoch: 2/50 - Loss: 0.002860\n",
            "Epoch: 3/50 - Loss: 0.002110\n",
            "Epoch: 4/50 - Loss: 0.002037\n",
            "Epoch: 5/50 - Loss: 0.002028\n",
            "Epoch: 6/50 - Loss: 0.002027\n",
            "Epoch: 7/50 - Loss: 0.002028\n",
            "Epoch: 8/50 - Loss: 0.002030\n",
            "Epoch: 9/50 - Loss: 0.002032\n",
            "Epoch: 10/50 - Loss: 0.002033\n",
            "Epoch: 11/50 - Loss: 0.002035\n",
            "Epoch: 12/50 - Loss: 0.002036\n",
            "Epoch: 13/50 - Loss: 0.002037\n",
            "Epoch: 14/50 - Loss: 0.002037\n",
            "Epoch: 15/50 - Loss: 0.002038\n",
            "Epoch: 16/50 - Loss: 0.002039\n",
            "Epoch: 17/50 - Loss: 0.002039\n",
            "Epoch: 18/50 - Loss: 0.002039\n",
            "Epoch: 19/50 - Loss: 0.002040\n",
            "Epoch: 20/50 - Loss: 0.002040\n",
            "Epoch: 21/50 - Loss: 0.002040\n",
            "Epoch: 22/50 - Loss: 0.002040\n",
            "Epoch: 23/50 - Loss: 0.002041\n",
            "Epoch: 24/50 - Loss: 0.002041\n",
            "Epoch: 25/50 - Loss: 0.002041\n",
            "Epoch: 26/50 - Loss: 0.002041\n",
            "Epoch: 27/50 - Loss: 0.002041\n",
            "Epoch: 28/50 - Loss: 0.002041\n",
            "Epoch: 29/50 - Loss: 0.002041\n",
            "Epoch: 30/50 - Loss: 0.002041\n",
            "Epoch: 31/50 - Loss: 0.002041\n",
            "Epoch: 32/50 - Loss: 0.002041\n",
            "Epoch: 33/50 - Loss: 0.002041\n",
            "Epoch: 34/50 - Loss: 0.002041\n",
            "Epoch: 35/50 - Loss: 0.002041\n",
            "Epoch: 36/50 - Loss: 0.002041\n",
            "Epoch: 37/50 - Loss: 0.002041\n",
            "Epoch: 38/50 - Loss: 0.002041\n",
            "Epoch: 39/50 - Loss: 0.002041\n",
            "Epoch: 40/50 - Loss: 0.002041\n",
            "Epoch: 41/50 - Loss: 0.002041\n",
            "Epoch: 42/50 - Loss: 0.002041\n",
            "Epoch: 43/50 - Loss: 0.002041\n",
            "Epoch: 44/50 - Loss: 0.002041\n",
            "Epoch: 45/50 - Loss: 0.002041\n",
            "Epoch: 46/50 - Loss: 0.002041\n",
            "Epoch: 47/50 - Loss: 0.002041\n",
            "Epoch: 48/50 - Loss: 0.002041\n",
            "Epoch: 49/50 - Loss: 0.002041\n",
            "Epoch: 50/50 - Loss: 0.002041\n"
          ],
          "name": "stdout"
        }
      ]
    },
    {
      "metadata": {
        "id": "Eb4xAq0Qgu-I",
        "colab_type": "code",
        "colab": {}
      },
      "cell_type": "code",
      "source": [
        "convlstm_model.load_state_dict(t.load(model_path+'convlstm_sweatynet1_trained_model.pkl'))\n",
        "convlstm_trained = convlstm_model"
      ],
      "execution_count": 0,
      "outputs": []
    },
    {
      "metadata": {
        "id": "gB5lHh9GFvL0",
        "colab_type": "code",
        "outputId": "2bb45c60-0524-463a-b1f4-97330e3556b0",
        "colab": {
          "base_uri": "https://localhost:8080/",
          "height": 204
        }
      },
      "cell_type": "code",
      "source": [
        "convlstm_output, convlstm_target = convlstm_eval.convlstm_test(convlstm_trained, test_loader, test_output)"
      ],
      "execution_count": 0,
      "outputs": [
        {
          "output_type": "stream",
          "text": [
            "/usr/local/lib/python3.6/dist-packages/skimage/transform/_warps.py:84: UserWarning: The default mode, 'constant', will be changed to 'reflect' in skimage 0.15.\n",
            "  warn(\"The default mode, 'constant', will be changed to 'reflect' in \"\n",
            "/usr/local/lib/python3.6/dist-packages/skimage/transform/_warps.py:84: UserWarning: The default mode, 'constant', will be changed to 'reflect' in skimage 0.15.\n",
            "  warn(\"The default mode, 'constant', will be changed to 'reflect' in \"\n",
            "/usr/local/lib/python3.6/dist-packages/skimage/transform/_warps.py:84: UserWarning: The default mode, 'constant', will be changed to 'reflect' in skimage 0.15.\n",
            "  warn(\"The default mode, 'constant', will be changed to 'reflect' in \"\n",
            "/usr/local/lib/python3.6/dist-packages/skimage/transform/_warps.py:84: UserWarning: The default mode, 'constant', will be changed to 'reflect' in skimage 0.15.\n",
            "  warn(\"The default mode, 'constant', will be changed to 'reflect' in \"\n",
            "/usr/local/lib/python3.6/dist-packages/skimage/transform/_warps.py:84: UserWarning: The default mode, 'constant', will be changed to 'reflect' in skimage 0.15.\n",
            "  warn(\"The default mode, 'constant', will be changed to 'reflect' in \"\n"
          ],
          "name": "stderr"
        }
      ]
    },
    {
      "metadata": {
        "id": "Hj-B01L6P8X5",
        "colab_type": "code",
        "outputId": "3cc23cdb-fc5c-461c-9d58-17f8b6fb4542",
        "colab": {
          "base_uri": "https://localhost:8080/",
          "height": 84
        }
      },
      "cell_type": "code",
      "source": [
        "# Find Recall, FDR & IoU for SweatyNet + Conv LSTM\n",
        "\n",
        "convlstm_postprocess = Convlstm_PostProcessing()\n",
        "print('\\n\\n-------Convlstm Test Set-------')\n",
        "convlstm_postprocess.find_metrics(convlstm_target, test_anno_path, convlstm_output, 'convlstm')"
      ],
      "execution_count": 0,
      "outputs": [
        {
          "output_type": "stream",
          "text": [
            "\n",
            "\n",
            "-------Convlstm Test Set-------\n",
            "Precision: 90.6 - Recall: 100.0 - FDR: 9.4 - IOU: 90.6 - Accuracy: 94.2\n"
          ],
          "name": "stdout"
        }
      ]
    },
    {
      "metadata": {
        "colab_type": "text",
        "id": "5fKBxLKE1Iq4"
      },
      "cell_type": "markdown",
      "source": [
        "# **Tasks - Completed**\n",
        "\n",
        "1. The SweatyNet Model has been implemented and the soccer ball dataset generated from image tagger has been used. \n",
        "2. The target matrix is derived from the annotations of the images. \n",
        "3. The model is trained and tested for single images.\n",
        "4. The post-processing steps for finding the RC and FDR.\n",
        "5. The Convolutional LSTM layer was added and tested.\n",
        "6. Final Report\n",
        "---\n",
        "\n",
        "\n",
        "\n",
        "\n",
        "\n",
        "\n",
        "\n",
        "\n"
      ]
    },
    {
      "metadata": {
        "id": "lK0cGX4kwPin",
        "colab_type": "code",
        "colab": {}
      },
      "cell_type": "code",
      "source": [
        ""
      ],
      "execution_count": 0,
      "outputs": []
    }
  ]
}
